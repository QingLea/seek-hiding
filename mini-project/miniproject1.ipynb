{
 "cells": [
  {
   "cell_type": "markdown",
   "metadata": {
    "deletable": false,
    "editable": false,
    "nbgrader": {
     "cell_type": "markdown",
     "checksum": "27ad9bffc8683bd3bec0d0809521e0ba",
     "grade": false,
     "grade_id": "cell-5761e8fe038f1ce1",
     "locked": true,
     "schema_version": 3,
     "solution": false,
     "task": false
    }
   },
   "source": [
    "---"
   ]
  },
  {
   "cell_type": "markdown",
   "metadata": {
    "deletable": false,
    "editable": false,
    "nbgrader": {
     "cell_type": "markdown",
     "checksum": "8b35c13ede99be3e38c6cde16200d510",
     "grade": false,
     "grade_id": "cell-2029e20d248073dd",
     "locked": true,
     "schema_version": 3,
     "solution": false,
     "task": false
    }
   },
   "source": [
    "# IT00CJ42: Search and Optimization Algorithms"
   ]
  },
  {
   "cell_type": "markdown",
   "metadata": {
    "deletable": false,
    "editable": false,
    "nbgrader": {
     "cell_type": "markdown",
     "checksum": "f873368fab1421a561427722d12bbb1e",
     "grade": false,
     "grade_id": "cell-66d480b3cea6503e",
     "locked": true,
     "schema_version": 3,
     "solution": false,
     "task": false
    }
   },
   "source": [
    "**Restart the kernel and run all cells** before you turn this problem in, make sure everything runs as expected.\n",
    "\n",
    "Make sure you fill in any place that says `YOUR CODE HERE`."
   ]
  },
  {
   "cell_type": "markdown",
   "metadata": {
    "deletable": false,
    "editable": false,
    "nbgrader": {
     "cell_type": "markdown",
     "checksum": "745172cac887adbdc30b82cf6668bc67",
     "grade": false,
     "grade_id": "cell-20d2680bb31d7bf4",
     "locked": true,
     "schema_version": 3,
     "solution": false,
     "task": false
    }
   },
   "source": [
    "---"
   ]
  },
  {
   "cell_type": "markdown",
   "metadata": {
    "deletable": false,
    "editable": false,
    "nbgrader": {
     "cell_type": "markdown",
     "checksum": "a3f84074813d857ad9bc431c54d78354",
     "grade": false,
     "grade_id": "cell-0f60f81d8c9376ba",
     "locked": true,
     "schema_version": 3,
     "solution": false,
     "task": false
    }
   },
   "source": [
    "## Miniproject 1: Ground Collision Avoidance System"
   ]
  },
  {
   "cell_type": "markdown",
   "metadata": {
    "deletable": false,
    "editable": false,
    "nbgrader": {
     "cell_type": "markdown",
     "checksum": "b2d15407c09d764e141a362899a9cfe0",
     "grade": false,
     "grade_id": "cell-94b366069926746e",
     "locked": true,
     "schema_version": 3,
     "solution": false,
     "task": false
    }
   },
   "source": [
    "The F-16 Fighting Falcon is a highly-maneuverable aircraft in production since the 1970s. Since then, several studies and books have investigated the aircraft’s performance and created simulation models. There are computer programs in MATLAB and Python implementing the flight model and autonomous maneuvers. The aircraft model and inner-loop controller has 16 continuous variables with piecewise nonlinear differential equations.\n",
    "\n",
    "![GCAS](https://raw.githubusercontent.com/stanleybak/AeroBenchVVPython/master/anim3d.gif)\n",
    "\n",
    "\n",
    "The Python function gcas_simulation accepts as parameters the roll, pitch,  yaw and altitude of the plane and performs a simulation of the ground collision avoidance manoeuvre. It returns a list with the plane altitude during the simulation. Our objective is the minimum altitude during the simulation. If it is equal or lower than 0 then the plane has crashed into the ground.\n",
    "\n",
    "Function gcas_simulation\n",
    "\n",
    "Input\n",
    "* Roll angle from wings level (radians), valid range [0.2 * pi, 0.2833 * pi]\n",
    "* Pitch angle from nose level (radians), valid range [-0.4 * pi, -0.35 * pi]\n",
    "* Yaw angle from North (radians), valid range [-0.375 * pi, -0.125 * pi]\n",
    "* Initial altitude (meters) is set to 2400.\n",
    "\n",
    "Output:\n",
    "* A list of the altitudes during the simulation\n",
    "\n",
    "**Your task is to create a Python program to find a test that  makes the gcas algorithm to fail. That is find at least one combination of roll, pitch and yaw values tat make minimum altitude during the simulation equal or below zero. Do this with any metaheuristic of your choosing.**"
   ]
  },
  {
   "cell_type": "markdown",
   "metadata": {
    "deletable": false,
    "editable": false,
    "nbgrader": {
     "cell_type": "markdown",
     "checksum": "0475661048047464a954566c15727f6e",
     "grade": false,
     "grade_id": "cell-4795ebb8029d18f7",
     "locked": true,
     "schema_version": 3,
     "solution": false,
     "task": false
    }
   },
   "source": [
    "### Imports"
   ]
  },
  {
   "cell_type": "code",
   "metadata": {
    "deletable": false,
    "editable": false,
    "nbgrader": {
     "cell_type": "code",
     "checksum": "7d01ba465cd89fde332bc2eb76a17e1f",
     "grade": false,
     "grade_id": "cell-0485565f7b89a56c",
     "locked": true,
     "schema_version": 3,
     "solution": false,
     "task": false
    },
    "ExecuteTime": {
     "end_time": "2024-06-14T13:57:41.394030Z",
     "start_time": "2024-06-14T13:57:38.942670Z"
    }
   },
   "source": [
    "import sys\n",
    "\n",
    "sys.path.insert(1, '../res/aerobench/')\n",
    "\n",
    "from run_f16_sim import gcas_simulation\n",
    "import math\n",
    "import numpy as np\n",
    "import matplotlib.pyplot as plt"
   ],
   "outputs": [],
   "execution_count": 1
  },
  {
   "cell_type": "markdown",
   "metadata": {
    "deletable": false,
    "editable": false,
    "nbgrader": {
     "cell_type": "markdown",
     "checksum": "6f4cbc6e2b8aaac62d63cf2540deec00",
     "grade": false,
     "grade_id": "cell-12c3f3ceb1a1b8c8",
     "locked": true,
     "schema_version": 3,
     "solution": false,
     "task": false
    }
   },
   "source": [
    "### Solutions check\n",
    "We use the function **check** to implement tests for your solution"
   ]
  },
  {
   "cell_type": "code",
   "metadata": {
    "deletable": false,
    "editable": false,
    "nbgrader": {
     "cell_type": "code",
     "checksum": "41cb29ba37d53bbaf87e43d1d0464c11",
     "grade": false,
     "grade_id": "cell-1bc5102b99e223ef",
     "locked": true,
     "schema_version": 3,
     "solution": false,
     "task": false
    },
    "ExecuteTime": {
     "end_time": "2024-06-14T13:57:41.397949Z",
     "start_time": "2024-06-14T13:57:41.395206Z"
    }
   },
   "source": [
    "def check(expression, message=\"\"):\n",
    "    if not expression:\n",
    "        raise AssertionError(message)\n",
    "    return \"Passed\""
   ],
   "outputs": [],
   "execution_count": 2
  },
  {
   "cell_type": "markdown",
   "metadata": {
    "deletable": false,
    "editable": false,
    "nbgrader": {
     "cell_type": "markdown",
     "checksum": "788d4bbc8bc405b763c10abcf30effe5",
     "grade": false,
     "grade_id": "cell-c5f4b461bfaa7bde",
     "locked": true,
     "schema_version": 3,
     "solution": false,
     "task": false
    }
   },
   "source": [
    "### Example"
   ]
  },
  {
   "cell_type": "code",
   "metadata": {
    "ExecuteTime": {
     "end_time": "2024-06-14T13:57:41.401633Z",
     "start_time": "2024-06-14T13:57:41.398730Z"
    }
   },
   "source": [
    "# Example parameters\n",
    "phi = 0.21 * math.pi\n",
    "theta = -0.38 * math.pi\n",
    "psi = -0.35 * math.pi"
   ],
   "outputs": [],
   "execution_count": 3
  },
  {
   "cell_type": "code",
   "metadata": {
    "ExecuteTime": {
     "end_time": "2024-06-14T13:57:41.660531Z",
     "start_time": "2024-06-14T13:57:41.402402Z"
    }
   },
   "source": [
    "result = gcas_simulation(phi, theta, psi)\n",
    "minimum_alt = min(result)\n",
    "\n",
    "marker = np.unravel_index(np.argmin(result, axis=None), result.shape)[0]\n",
    "plt.scatter(marker, minimum_alt, marker='x', color='red', label=f'Minimum Altitude: {round(minimum_alt, 2)}')\n",
    "\n",
    "plt.plot(result)\n",
    "plt.grid()\n",
    "plt.title(\"Altitude\")\n",
    "plt.legend()\n",
    "plt.show()\n",
    "\n",
    "print(\"Minimum altitude\", round(minimum_alt, 2))\n",
    "if minimum_alt <= 0:\n",
    "    print(\"Crashed into the ground.\")\n",
    "else:\n",
    "    print(\"Did not crash into the ground.\")"
   ],
   "outputs": [
    {
     "data": {
      "text/plain": [
       "<Figure size 640x480 with 1 Axes>"
      ],
      "image/png": "[encoded data removed]"
     },
     "metadata": {},
     "output_type": "display_data"
    },
    {
     "name": "stdout",
     "output_type": "stream",
     "text": [
      "Minimum altitude 223.47\n",
      "Did not crash into the ground.\n"
     ]
    }
   ],
   "execution_count": 4
  },
  {
   "cell_type": "markdown",
   "metadata": {
    "deletable": false,
    "editable": false,
    "nbgrader": {
     "cell_type": "markdown",
     "checksum": "c805b6edc4b7fb4c2674ef869293bb70",
     "grade": false,
     "grade_id": "cell-27cff2713b4b3be4",
     "locked": true,
     "schema_version": 3,
     "solution": false,
     "task": false
    }
   },
   "source": [
    "### Solution\n",
    "#### Find values of *phi*, *theta*, *psi* such the plane crashes into the ground using a metaheuristic."
   ]
  },
  {
   "cell_type": "code",
   "metadata": {
    "deletable": false,
    "nbgrader": {
     "cell_type": "code",
     "checksum": "2cd77185f5abe7d7e628f58debb4835e",
     "grade": false,
     "grade_id": "cell-d505eb226a0cf0d5",
     "locked": false,
     "schema_version": 3,
     "solution": true,
     "task": false
    },
    "ExecuteTime": {
     "end_time": "2024-06-14T13:58:32.185439Z",
     "start_time": "2024-06-14T13:57:41.676463Z"
    }
   },
   "source": [
    "import numpy as np\n",
    "import matplotlib.pyplot as plt\n",
    "\n",
    "import random\n",
    "\n",
    "\n",
    "def simulated_annealing():\n",
    "    pi = math.pi\n",
    "    temperature = 1.0\n",
    "    cooling_rate = 0.99\n",
    "    min_temperature = 0.001\n",
    "\n",
    "    # Initialize the counter for the number of calls to gcas_simulation\n",
    "    num_calls = 0\n",
    "\n",
    "    # Initial solution\n",
    "    current_solution = (random.uniform(0.2 * pi, 0.2833 * pi),\n",
    "                        random.uniform(-0.4 * pi, -0.35 * pi),\n",
    "                        random.uniform(-0.375 * pi, -0.125 * pi))\n",
    "    current_altitudes = gcas_simulation(*current_solution)\n",
    "    current_min_altitude = min(current_altitudes)\n",
    "\n",
    "    # Increment the counter\n",
    "    num_calls += 1\n",
    "\n",
    "    best_solution = current_solution\n",
    "    best_min_altitude = current_min_altitude\n",
    "\n",
    "    while temperature > min_temperature:\n",
    "        # Generate neighbor by tweaking the current solution slightly\n",
    "        neighbor = (current_solution[0] + random.uniform(-0.01, 0.01) * pi,\n",
    "                    current_solution[1] + random.uniform(-0.01, 0.01) * pi,\n",
    "                    current_solution[2] + random.uniform(-0.01, 0.01) * pi)\n",
    "\n",
    "        # Ensure neighbor is within bounds\n",
    "        neighbor = (max(min(neighbor[0], 0.2833 * pi), 0.2 * pi),\n",
    "                    max(min(neighbor[1], -0.35 * pi), -0.4 * pi),\n",
    "                    max(min(neighbor[2], -0.125 * pi), -0.375 * pi))\n",
    "\n",
    "        altitudes = gcas_simulation(*neighbor)\n",
    "        min_altitude = min(altitudes)\n",
    "\n",
    "        # Increment the counter\n",
    "        num_calls += 1\n",
    "\n",
    "        # Acceptance probability\n",
    "        if min_altitude < current_min_altitude or np.exp(\n",
    "                (current_min_altitude - min_altitude) / temperature) > random.random():\n",
    "            current_solution = neighbor\n",
    "            current_min_altitude = min_altitude\n",
    "\n",
    "            if min_altitude < best_min_altitude:\n",
    "                best_solution = neighbor\n",
    "                best_min_altitude = min_altitude\n",
    "\n",
    "        temperature *= cooling_rate\n",
    "\n",
    "    return best_solution, best_min_altitude, num_calls\n",
    "\n",
    "\n",
    "phi, theta, psi = simulated_annealing()[0]\n",
    "print(f\"phi: {phi}, theta: {theta}, psi: {psi}\")"
   ],
   "outputs": [
    {
     "name": "stdout",
     "output_type": "stream",
     "text": [
      "phi: 0.8662485148101808, theta: -1.2566370614359172, psi: -1.1750390648304647\n"
     ]
    }
   ],
   "execution_count": 5
  },
  {
   "cell_type": "markdown",
   "metadata": {
    "deletable": false,
    "editable": false,
    "nbgrader": {
     "cell_type": "markdown",
     "checksum": "25bd577b1523ac36801926aef4586562",
     "grade": false,
     "grade_id": "cell-9efd711f155ea20a",
     "locked": true,
     "schema_version": 3,
     "solution": false,
     "task": false
    }
   },
   "source": [
    "#### Check the solution"
   ]
  },
  {
   "cell_type": "code",
   "metadata": {
    "deletable": false,
    "editable": false,
    "nbgrader": {
     "cell_type": "code",
     "checksum": "38b5f32eac15b546d7d0c0dec1098c97",
     "grade": true,
     "grade_id": "cell-54dcb948b06aa3fb",
     "locked": true,
     "points": 5,
     "schema_version": 3,
     "solution": false,
     "task": false
    },
    "ExecuteTime": {
     "end_time": "2024-06-14T13:58:32.541795Z",
     "start_time": "2024-06-14T13:58:32.188554Z"
    }
   },
   "source": [
    "# Make your function return the three values: phi, theta and psi.\n",
    "# Insert them into the gcas simulator function below.\n",
    "result = gcas_simulation(phi, theta, psi)\n",
    "minimum_alt = min(result)\n",
    "\n",
    "marker = np.unravel_index(np.argmin(result, axis=None), result.shape)[0]\n",
    "plt.scatter(marker, minimum_alt, marker='x', color='red', label=f'Minimum Altitude: {round(minimum_alt, 2)}')\n",
    "\n",
    "plt.plot(result)\n",
    "plt.grid()\n",
    "plt.title(\"Altitude\")\n",
    "plt.legend()\n",
    "plt.show()\n",
    "\n",
    "check(minimum_alt <= 0, \"Did not crash into the ground.\")"
   ],
   "outputs": [
    {
     "data": {
      "text/plain": [
       "<Figure size 640x480 with 1 Axes>"
      ],
      "image/png": "[encoded data removed]"
     },
     "metadata": {},
     "output_type": "display_data"
    },
    {
     "data": {
      "text/plain": [
       "'Passed'"
      ]
     },
     "execution_count": 6,
     "metadata": {},
     "output_type": "execute_result"
    }
   ],
   "execution_count": 6
  },
  {
   "cell_type": "markdown",
   "source": [
    "### Why Simulated Annealing?\n",
    "Simulated Annealing (SA) was chosen due to its effectiveness in exploring complex solution spaces and its ability to escape local optima. SA is particularly suited for this problem because:\n",
    "- It allows for a broad exploration of the solution space at higher \"temperatures\" and gradually focuses on exploiting the best solutions found as the \"temperature\" decreases.\n",
    "- The problem of finding a failing test case for the GCAS simulation likely involves navigating a complex and potentially rugged landscape of solutions, making SA's ability to jump out of local optima valuable.\n"
   ],
   "metadata": {
    "collapsed": false
   }
  }
 ],
 "metadata": {
  "kernelspec": {
   "display_name": "Python 3 (ipykernel)",
   "language": "python",
   "name": "python3"
  },
  "language_info": {
   "codemirror_mode": {
    "name": "ipython",
    "version": 3
   },
   "file_extension": ".py",
   "mimetype": "text/x-python",
   "name": "python",
   "nbconvert_exporter": "python",
   "pygments_lexer": "ipython3",
   "version": "3.9.6"
  }
 },
 "nbformat": 4,
 "nbformat_minor": 4
}
