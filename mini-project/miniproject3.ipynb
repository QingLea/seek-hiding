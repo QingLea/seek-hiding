{
 "cells": [
  {
   "cell_type": "markdown",
   "metadata": {
    "deletable": false,
    "editable": false,
    "nbgrader": {
     "cell_type": "markdown",
     "checksum": "27ad9bffc8683bd3bec0d0809521e0ba",
     "grade": false,
     "grade_id": "cell-5761e8fe038f1ce1",
     "locked": true,
     "schema_version": 3,
     "solution": false,
     "task": false
    }
   },
   "source": [
    "---"
   ]
  },
  {
   "cell_type": "markdown",
   "metadata": {
    "deletable": false,
    "editable": false,
    "nbgrader": {
     "cell_type": "markdown",
     "checksum": "8b35c13ede99be3e38c6cde16200d510",
     "grade": false,
     "grade_id": "cell-2029e20d248073dd",
     "locked": true,
     "schema_version": 3,
     "solution": false,
     "task": false
    }
   },
   "source": [
    "# IT00CJ42: Search and Optimization Algorithms"
   ]
  },
  {
   "cell_type": "markdown",
   "metadata": {
    "deletable": false,
    "editable": false,
    "nbgrader": {
     "cell_type": "markdown",
     "checksum": "f873368fab1421a561427722d12bbb1e",
     "grade": false,
     "grade_id": "cell-66d480b3cea6503e",
     "locked": true,
     "schema_version": 3,
     "solution": false,
     "task": false
    }
   },
   "source": [
    "**Restart the kernel and run all cells** before you turn this problem in, make sure everything runs as expected.\n",
    "\n",
    "Make sure you fill in any place that says `YOUR CODE HERE`."
   ]
  },
  {
   "cell_type": "markdown",
   "metadata": {
    "deletable": false,
    "editable": false,
    "nbgrader": {
     "cell_type": "markdown",
     "checksum": "745172cac887adbdc30b82cf6668bc67",
     "grade": false,
     "grade_id": "cell-20d2680bb31d7bf4",
     "locked": true,
     "schema_version": 3,
     "solution": false,
     "task": false
    }
   },
   "source": [
    "---"
   ]
  },
  {
   "cell_type": "markdown",
   "metadata": {
    "deletable": false,
    "editable": false,
    "nbgrader": {
     "cell_type": "markdown",
     "checksum": "bbe3d1bf4854294492d721b941bc2453",
     "grade": false,
     "grade_id": "cell-f3b0e2601318ec83",
     "locked": true,
     "schema_version": 3,
     "solution": false,
     "task": false
    }
   },
   "source": [
    "## Miniproject 3: Mobile Application for Power Consumption"
   ]
  },
  {
   "cell_type": "markdown",
   "metadata": {
    "deletable": false,
    "editable": false,
    "nbgrader": {
     "cell_type": "markdown",
     "checksum": "3a3242a805077457837a43ad71d75e13",
     "grade": false,
     "grade_id": "cell-4ed8585550999dcb",
     "locked": true,
     "schema_version": 3,
     "solution": false,
     "task": false
    }
   },
   "source": [
    "We want to find an optimal configuration to run the EEMBC CoreMark-Pro Suite 1 benchmark suite on the ODROID XU3 development board from HARDKERNEL from the point of view of power consumption.\n",
    "\n",
    "The ODROID XU3 board includes a Exynos 5422 processor that implements the ARM big.LITTLE architecture with two clusters composed of 4 cores each. The big cluster consists of a high-performance Cortex-A15 quad-core CPUs, and the little cluster is a low power Cortex-A7 quad-core CPUs.\n",
    "\n",
    "![odroid](https://cdn.hardkernel.com/wp-content/uploads/2018/10/ODROID-XU3.jpg)\n",
    "\n",
    "As search space, we consider the different board configurations in terms of the number of CPUs, type of CPU, core performance level (i.e., Dynamic voltage and frequency scaling, DVFS level) and core utilization level.\n",
    "\n",
    "The core utilization level is set using a scheduler framework, which is based on the concept of setting the CPU bandwidth of a certainprocess. By setting the runtime of a process inside a period we can control the level of CPU it uses. In this experiment, we considered 10 possible core utilization levels from 10% to 100% with 10% steps.\n",
    "\n",
    "The search  space has therefore 6 dimensions and is defined  as follows:\n",
    "* p1 Core 1 mode, enumeration, valid range [0,7]\n",
    "* p2 Core 1 frequency, Hz, valid range [200, 1400]\n",
    "* p3 Core 1 max. utilization, %, valid range [0, 100]\n",
    "* p4 Core 2 mode, enumeration, valid range [1,4]\n",
    "* p5 Core 2 frequency, Hz, valid range [200, 2000]\n",
    "* p6 Core 1 max. utilization, %, valid range [0, 100]\n",
    "\n",
    "For each configuration, we obtain 3 different performance indicators:\n",
    "* Power (Watt), lower is better\n",
    "* Performance  (Instructions/seconds), higher is better\n",
    "* Efficiency      (Instructions/Joule), higher is better\n",
    "\n",
    "There are 479 600 different configurations and executing the benchmark through the entire search space requires around 80 hours.\n",
    "\n",
    "**Your task is to create a Python program to find  the best configurations for the Odroid board. Since there are three performance indicators, this is a multi-objective optimization problem.** <br>\n",
    "**To simplify this project, we have already collected the benchmark results for all the configurations. They are stored in the file odroid.npy. It can be accesed using the function evaluate_performance:**"
   ]
  },
  {
   "cell_type": "markdown",
   "metadata": {
    "deletable": false,
    "editable": false,
    "nbgrader": {
     "cell_type": "markdown",
     "checksum": "157c014fa0272fc5074084a7f018ea0a",
     "grade": false,
     "grade_id": "cell-70829e7e6d1e8b64",
     "locked": true,
     "schema_version": 3,
     "solution": false,
     "task": false
    }
   },
   "source": [
    "### Imports"
   ]
  },
  {
   "cell_type": "code",
   "metadata": {
    "deletable": false,
    "editable": false,
    "metadata": {},
    "nbgrader": {
     "cell_type": "code",
     "checksum": "8b2b8334bfeb75104cdf070dfa660e40",
     "grade": false,
     "grade_id": "cell-214ec4a81fd4ccc9",
     "locked": true,
     "schema_version": 3,
     "solution": false,
     "task": false
    },
    "ExecuteTime": {
     "end_time": "2024-06-14T13:41:11.356126Z",
     "start_time": "2024-06-14T13:41:11.353631Z"
    }
   },
   "source": [
    "import numpy as np"
   ],
   "outputs": [],
   "execution_count": 5
  },
  {
   "cell_type": "markdown",
   "metadata": {
    "deletable": false,
    "editable": false,
    "nbgrader": {
     "cell_type": "markdown",
     "checksum": "c7dc7dbf3436694c52d1e95bf3ea13be",
     "grade": false,
     "grade_id": "cell-13973b39efcd62ec",
     "locked": true,
     "schema_version": 3,
     "solution": false,
     "task": false
    }
   },
   "source": [
    "### Solutions check\n",
    "We use the function **check** to implement tests for your solution"
   ]
  },
  {
   "cell_type": "code",
   "metadata": {
    "deletable": false,
    "editable": false,
    "metadata": {},
    "nbgrader": {
     "cell_type": "code",
     "checksum": "bd2ad87da0f2be4024f59444817a9d2d",
     "grade": false,
     "grade_id": "cell-33e244c6891baf9c",
     "locked": true,
     "schema_version": 3,
     "solution": false,
     "task": false
    },
    "ExecuteTime": {
     "end_time": "2024-06-14T13:41:11.381917Z",
     "start_time": "2024-06-14T13:41:11.379166Z"
    }
   },
   "source": [
    "def check(expression, message=\"\"):\n",
    "    if not expression:\n",
    "        raise AssertionError(message)\n",
    "    return \"Passed\""
   ],
   "outputs": [],
   "execution_count": 6
  },
  {
   "cell_type": "markdown",
   "metadata": {
    "deletable": false,
    "editable": false,
    "nbgrader": {
     "cell_type": "markdown",
     "checksum": "d8338fd013de2d12de295afbe28ddd01",
     "grade": false,
     "grade_id": "cell-6136bf7ec883dcca",
     "locked": true,
     "schema_version": 3,
     "solution": false,
     "task": false
    }
   },
   "source": [
    "### Example"
   ]
  },
  {
   "cell_type": "code",
   "metadata": {
    "deletable": false,
    "editable": false,
    "metadata": {},
    "nbgrader": {
     "cell_type": "code",
     "checksum": "1ff1ab445cf80efa47ac0516193d7768",
     "grade": false,
     "grade_id": "cell-d37be44bbf9cce54",
     "locked": true,
     "schema_version": 3,
     "solution": false,
     "task": false
    },
    "ExecuteTime": {
     "end_time": "2024-06-14T13:41:11.387379Z",
     "start_time": "2024-06-14T13:41:11.383726Z"
    }
   },
   "source": [
    "def evaluate_performance(p1, p2, p3, p4, p5, p6, data):\n",
    "    \"\"\"\n",
    "    Estimate the performance of the odroid board when running the benchmark\n",
    "    :param p1: Core 1 mode, enumeration, valid range [0,7]\n",
    "    :param p2: Core 1 frequency, Hz, valid range [200, 1400]\n",
    "    :param p3: Core 1 max. utilization, %, valid range [0, 100]\n",
    "    :param p4: Core 2 mode, enumeration, valid range [1,4]\n",
    "    :param p5: Core 2 frequency, Hz, valid range [200, 2000]\n",
    "    :param p6: Core 1 max. utilization, %, valid range [0, 100]\n",
    "    :param data: A numpy array contianing experimental data about the bechmark\n",
    "    :return: A list with 2 performance indicators:\n",
    "        Power(W) and Performance(Instructions/s)\n",
    "    \"\"\"\n",
    "    parameters = data[:, 0: 6]\n",
    "    performance = data[:, 6:]\n",
    "\n",
    "    # look up the experimental data that is closer to the provided parameters\n",
    "    distances = np.sum((parameters - np.asarray([p1, p2, p3, p4, p5, p6])) ** 2, axis=1)\n",
    "    return performance[np.argmin(distances)][0:2]"
   ],
   "outputs": [],
   "execution_count": 7
  },
  {
   "cell_type": "markdown",
   "metadata": {
    "deletable": false,
    "editable": false,
    "nbgrader": {
     "cell_type": "markdown",
     "checksum": "5f59cff9fd6accf10ff6bc1d7a56922b",
     "grade": false,
     "grade_id": "cell-c0f04755387283ee",
     "locked": true,
     "schema_version": 3,
     "solution": false,
     "task": false
    }
   },
   "source": [
    "#### Load the odroid experimental data"
   ]
  },
  {
   "cell_type": "code",
   "metadata": {
    "deletable": false,
    "editable": false,
    "metadata": {},
    "nbgrader": {
     "cell_type": "code",
     "checksum": "a55af1dfd9cc8cf577590eefe3bd1b9c",
     "grade": false,
     "grade_id": "cell-772fcf46541c4ea7",
     "locked": true,
     "schema_version": 3,
     "solution": false,
     "task": false
    },
    "ExecuteTime": {
     "end_time": "2024-06-14T13:41:11.401770Z",
     "start_time": "2024-06-14T13:41:11.388171Z"
    }
   },
   "source": "odroid_data = np.load(\"../res/data/odroid.npy\")",
   "outputs": [],
   "execution_count": 8
  },
  {
   "cell_type": "markdown",
   "metadata": {
    "deletable": false,
    "editable": false,
    "nbgrader": {
     "cell_type": "markdown",
     "checksum": "67378b1b50a2520ae5d0b7ff8fb6fde2",
     "grade": false,
     "grade_id": "cell-778ad1c7791292c5",
     "locked": true,
     "schema_version": 3,
     "solution": false,
     "task": false
    }
   },
   "source": [
    "#### Query a configurarion"
   ]
  },
  {
   "cell_type": "code",
   "metadata": {
    "deletable": false,
    "editable": false,
    "metadata": {},
    "nbgrader": {
     "cell_type": "code",
     "checksum": "7bda11725057bf0461605fbd935998a0",
     "grade": false,
     "grade_id": "cell-d39f918efcbbbfc0",
     "locked": true,
     "schema_version": 3,
     "solution": false,
     "task": false
    },
    "ExecuteTime": {
     "end_time": "2024-06-14T13:41:11.424066Z",
     "start_time": "2024-06-14T13:41:11.403627Z"
    }
   },
   "source": [
    "result = evaluate_performance(1, 250, 100, 2, 1500, 75, odroid_data)\n",
    "\n",
    "print(f'Power: {result[0]}\\nPerformance: {result[1]}')"
   ],
   "outputs": [
    {
     "name": "stdout",
     "output_type": "stream",
     "text": [
      "Power: 2.2981752663802366\n",
      "Performance: 2122866971.5419734\n"
     ]
    }
   ],
   "execution_count": 9
  },
  {
   "cell_type": "markdown",
   "metadata": {
    "deletable": false,
    "editable": false,
    "nbgrader": {
     "cell_type": "markdown",
     "checksum": "c73154f5330de9f19c42ed0cb371b792",
     "grade": false,
     "grade_id": "cell-bfdbe41a00293329",
     "locked": true,
     "schema_version": 3,
     "solution": false,
     "task": false
    }
   },
   "source": [
    "### Solution\n",
    "Implement a multi-objective optimization algorithm and compute a pareto set for power and performance for the odroid dataset. <br>\n",
    "Meaning:\n",
    "* You should implement a multi-objective optimization algorithm, that uses power and performance as fitness functions\n",
    "* For finding a set of six (6) optimal parameters (p1-p6) to optimize the system under test (odroid)\n",
    "* Use the function *evaluate_performance* to evaluate the power and performance of the system (for example using a weighed sum)\n",
    "* Check your best performing set of parameters against the check"
   ]
  },
  {
   "cell_type": "code",
   "metadata": {
    "deletable": false,
    "metadata": {},
    "nbgrader": {
     "cell_type": "code",
     "checksum": "b3a6265d14065d9a75414557f69108ca",
     "grade": false,
     "grade_id": "cell-5444c2e2f683e730",
     "locked": false,
     "schema_version": 3,
     "solution": true,
     "task": false
    },
    "ExecuteTime": {
     "end_time": "2024-06-14T13:41:23.617078Z",
     "start_time": "2024-06-14T13:41:11.425681Z"
    }
   },
   "source": [
    "# Randomly generate a set of configurations within specified parameter ranges\n",
    "sample_size = 1000\n",
    "configs = np.random.randint(low=[0, 200, 10, 1, 200, 10], high=[8, 1401, 101, 5, 2001, 101], size=(sample_size, 6))\n",
    "\n",
    "def find_optimal_configurations(data):\n",
    "    # Set a random seed for reproducibility\n",
    "    np.random.seed(42)\n",
    "        \n",
    "    # Initialize variables to track the optimal power and performance found\n",
    "    optimal_power = float('inf')  # Start with infinity, as we're looking for the minimum\n",
    "    optimal_performance = 0  # Start with zero, as we're looking for the maximum\n",
    "\n",
    "    # Iterate over each configuration in the sample\n",
    "    for config in configs:\n",
    "        # Evaluate the current configuration to get its power and performance\n",
    "        power, performance = evaluate_performance(*config, data)\n",
    "        \n",
    "        # Check if the current configuration satisfies both conditions\n",
    "        if power <= 8 and performance >= 100 * 100000000:\n",
    "            optimal_power = power\n",
    "            optimal_performance = performance\n",
    "            optimal_config = config\n",
    "    \n",
    "    return optimal_config.tolist(), [optimal_power, optimal_performance]\n",
    "\n",
    "optimal_parameters, result = find_optimal_configurations(odroid_data)\n",
    "print(f\"Optimal Parameters: {optimal_parameters}\")\n",
    "print(f\"Optimal Power: {result[0]}\")\n",
    "print(f\"Optimal Performance: {result[1]}\")"
   ],
   "outputs": [
    {
     "name": "stdout",
     "output_type": "stream",
     "text": [
      "Optimal Parameters: [6, 612, 98, 2, 1846, 96]\n",
      "Optimal Power: 5.332701515717865\n",
      "Optimal Performance: 10871428415.05537\n"
     ]
    }
   ],
   "execution_count": 10
  },
  {
   "cell_type": "code",
   "metadata": {
    "deletable": false,
    "editable": false,
    "metadata": {},
    "nbgrader": {
     "cell_type": "code",
     "checksum": "ad51fb8555d3f163717ec4d288f555c2",
     "grade": true,
     "grade_id": "cell-1c01f9584f2007e5",
     "locked": true,
     "points": 1,
     "schema_version": 3,
     "solution": false,
     "task": false
    },
    "ExecuteTime": {
     "end_time": "2024-06-14T13:41:23.622492Z",
     "start_time": "2024-06-14T13:41:23.618242Z"
    }
   },
   "source": [
    "# check power\n",
    "check(result[0] <= 8, \"Power consumption is too high.\")"
   ],
   "outputs": [
    {
     "data": {
      "text/plain": [
       "'Passed'"
      ]
     },
     "execution_count": 11,
     "metadata": {},
     "output_type": "execute_result"
    }
   ],
   "execution_count": 11
  },
  {
   "cell_type": "code",
   "metadata": {
    "deletable": false,
    "editable": false,
    "metadata": {},
    "nbgrader": {
     "cell_type": "code",
     "checksum": "eb11f2ea5c16999339725e4710a22215",
     "grade": true,
     "grade_id": "cell-60255403ed74d696",
     "locked": true,
     "points": 1,
     "schema_version": 3,
     "solution": false,
     "task": false
    },
    "ExecuteTime": {
     "end_time": "2024-06-14T13:41:23.626921Z",
     "start_time": "2024-06-14T13:41:23.623167Z"
    }
   },
   "source": [
    "# check performance\n",
    "check(result[1] >= 100*100000000, \"Performance is too low.\")"
   ],
   "outputs": [
    {
     "data": {
      "text/plain": [
       "'Passed'"
      ]
     },
     "execution_count": 12,
     "metadata": {},
     "output_type": "execute_result"
    }
   ],
   "execution_count": 12
  },
  {
   "cell_type": "code",
   "metadata": {
    "deletable": false,
    "editable": false,
    "metadata": {},
    "nbgrader": {
     "cell_type": "code",
     "checksum": "cc5da4f61353e3ad127140180fb414d8",
     "grade": true,
     "grade_id": "cell-e3a6ac600e64caa5",
     "locked": true,
     "points": 3,
     "schema_version": 3,
     "solution": false,
     "task": false
    },
    "ExecuteTime": {
     "end_time": "2024-06-14T13:41:23.631939Z",
     "start_time": "2024-06-14T13:41:23.628953Z"
    }
   },
   "source": [
    "# check both\n",
    "check(result[0] <= 8 and result[1] >= 100*100000000, \"Power consumption is too high AND/OR performance is too low.\")"
   ],
   "outputs": [
    {
     "data": {
      "text/plain": [
       "'Passed'"
      ]
     },
     "execution_count": 13,
     "metadata": {},
     "output_type": "execute_result"
    }
   ],
   "execution_count": 13
  }
 ],
 "metadata": {
  "kernelspec": {
   "display_name": "Python 3 (ipykernel)",
   "language": "python",
   "name": "python3"
  },
  "language_info": {
   "codemirror_mode": {
    "name": "ipython",
    "version": 3
   },
   "file_extension": ".py",
   "mimetype": "text/x-python",
   "name": "python",
   "nbconvert_exporter": "python",
   "pygments_lexer": "ipython3",
   "version": "3.12.3"
  }
 },
 "nbformat": 4,
 "nbformat_minor": 4
}
