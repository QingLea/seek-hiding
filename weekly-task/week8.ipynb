{
 "cells": [
  {
   "cell_type": "markdown",
   "metadata": {
    "deletable": false,
    "editable": false,
    "nbgrader": {
     "cell_type": "markdown",
     "checksum": "27ad9bffc8683bd3bec0d0809521e0ba",
     "grade": false,
     "grade_id": "cell-5761e8fe038f1ce1",
     "locked": true,
     "schema_version": 3,
     "solution": false,
     "task": false
    }
   },
   "source": [
    "---"
   ]
  },
  {
   "cell_type": "markdown",
   "metadata": {
    "deletable": false,
    "editable": false,
    "nbgrader": {
     "cell_type": "markdown",
     "checksum": "8b35c13ede99be3e38c6cde16200d510",
     "grade": false,
     "grade_id": "cell-2029e20d248073dd",
     "locked": true,
     "schema_version": 3,
     "solution": false,
     "task": false
    }
   },
   "source": [
    "# IT00CJ42: Search and Optimization Algorithms"
   ]
  },
  {
   "cell_type": "markdown",
   "metadata": {
    "deletable": false,
    "editable": false,
    "nbgrader": {
     "cell_type": "markdown",
     "checksum": "f873368fab1421a561427722d12bbb1e",
     "grade": false,
     "grade_id": "cell-66d480b3cea6503e",
     "locked": true,
     "schema_version": 3,
     "solution": false,
     "task": false
    }
   },
   "source": [
    "**Restart the kernel and run all cells** before you turn this problem in, make sure everything runs as expected.\n",
    "\n",
    "Make sure you fill in any place that says `YOUR CODE HERE`."
   ]
  },
  {
   "cell_type": "markdown",
   "metadata": {
    "deletable": false,
    "editable": false,
    "nbgrader": {
     "cell_type": "markdown",
     "checksum": "745172cac887adbdc30b82cf6668bc67",
     "grade": false,
     "grade_id": "cell-20d2680bb31d7bf4",
     "locked": true,
     "schema_version": 3,
     "solution": false,
     "task": false
    }
   },
   "source": [
    "---"
   ]
  },
  {
   "cell_type": "markdown",
   "metadata": {
    "deletable": false,
    "editable": false,
    "nbgrader": {
     "cell_type": "markdown",
     "checksum": "84eda1530f82a284474b4fe293b6902e",
     "grade": false,
     "grade_id": "cell-73621e3d04e5551c",
     "locked": true,
     "schema_version": 3,
     "solution": false,
     "task": false
    }
   },
   "source": [
    "## Week 8: Multi-objective Genetic Algorithm\n",
    "\n",
    "The task for this week is to implement a multi-objective genetic algorithm for the problem of test selection (See task week 2 and 5). You need to complete the task from week 7 before you can start with this one.\n",
    "\n",
    "The goal is to design a test selection algorithm that given a set of tests T, selects a subset of T such that:\n",
    "\n",
    "* minimizes the total execution time\n",
    "* maximizes the total code coverage\n",
    "\n",
    "First examine the Python code in the file ga-moo.py. It already implements the main loop of the genetic algorithm as well as a Python class to represent our test database and objective functions. This code is given as a reference. You can use as it is our change it if helps you.\n",
    "\n",
    "Your tasks are:\n",
    "\n",
    "2.a Implement the fitness function and selection operator so they take into account the concepts of Pareto dominance and Pareto front of the population (3p)\n",
    "\n",
    "2.b Solve the problems in the files problem1.txt, problem2.txt and problem3.txt and report the obtained Pareto front for each problem (1p)"
   ]
  },
  {
   "cell_type": "markdown",
   "metadata": {
    "deletable": false,
    "editable": false,
    "nbgrader": {
     "cell_type": "markdown",
     "checksum": "9d074d5330c1dac6bbecfb4a27f5abec",
     "grade": false,
     "grade_id": "cell-476cf4966896927a",
     "locked": true,
     "schema_version": 3,
     "solution": false,
     "task": false
    }
   },
   "source": [
    "### Imports"
   ]
  },
  {
   "cell_type": "code",
   "metadata": {
    "deletable": false,
    "editable": false,
    "nbgrader": {
     "cell_type": "code",
     "checksum": "3af07834f4e9a28bc637b0ef431f7687",
     "grade": false,
     "grade_id": "cell-0de1c30d664c90cc",
     "locked": true,
     "schema_version": 3,
     "solution": false,
     "task": false
    },
    "ExecuteTime": {
     "end_time": "2024-06-14T13:59:29.471359Z",
     "start_time": "2024-06-14T13:59:29.468887Z"
    }
   },
   "source": [
    "import copy\n",
    "import random\n",
    "\n",
    "import matplotlib.pyplot as plt\n",
    "import numpy as np\n",
    "from numpy.random import rand, randint, uniform\n",
    "\n",
    "random.seed(1)"
   ],
   "outputs": [],
   "execution_count": 14
  },
  {
   "cell_type": "markdown",
   "metadata": {
    "deletable": false,
    "editable": false,
    "nbgrader": {
     "cell_type": "markdown",
     "checksum": "a12804849d4710c89f5077a5b260c701",
     "grade": false,
     "grade_id": "cell-1201d65044a1dc70",
     "locked": true,
     "schema_version": 3,
     "solution": false,
     "task": false
    }
   },
   "source": [
    "### Solutions check\n",
    "We use the function **check** to implement tests for your solution"
   ]
  },
  {
   "cell_type": "code",
   "metadata": {
    "deletable": false,
    "editable": false,
    "nbgrader": {
     "cell_type": "code",
     "checksum": "7c465a2242da15774d29a2a0ad195922",
     "grade": false,
     "grade_id": "cell-c750e0c57d6e35d1",
     "locked": true,
     "schema_version": 3,
     "solution": false,
     "task": false
    },
    "ExecuteTime": {
     "end_time": "2024-06-14T13:59:29.602269Z",
     "start_time": "2024-06-14T13:59:29.599313Z"
    }
   },
   "source": [
    "def check(expression, message=\"\"):\n",
    "    if not expression:\n",
    "        raise AssertionError(message)\n",
    "    return \"Passed\""
   ],
   "outputs": [],
   "execution_count": 15
  },
  {
   "cell_type": "markdown",
   "metadata": {
    "deletable": false,
    "editable": false,
    "nbgrader": {
     "cell_type": "markdown",
     "checksum": "2c10ea3a08d2a5a1c07fbb1df1843fca",
     "grade": false,
     "grade_id": "cell-66086b6bcfeda05e",
     "locked": true,
     "schema_version": 3,
     "solution": false,
     "task": false
    }
   },
   "source": [
    "### Test database\n",
    "This is already implemented"
   ]
  },
  {
   "cell_type": "code",
   "metadata": {
    "deletable": false,
    "editable": false,
    "nbgrader": {
     "cell_type": "code",
     "checksum": "c7b1b62c39f3760a6c6712811ec2b14b",
     "grade": false,
     "grade_id": "cell-ce3916768a0cb932",
     "locked": true,
     "schema_version": 3,
     "solution": false,
     "task": false
    },
    "ExecuteTime": {
     "end_time": "2024-06-14T13:59:29.630703Z",
     "start_time": "2024-06-14T13:59:29.623586Z"
    }
   },
   "source": [
    "class TestDatabase:\n",
    "    # This class represents our test database\n",
    "    # It is already implemented\n",
    "    def __init__(self):\n",
    "        self.coverage = []\n",
    "        self.time = []\n",
    "\n",
    "    def get_time(self, i):\n",
    "        return self.time[i]\n",
    "\n",
    "    def get_coverage(self, i):\n",
    "        return self.coverage[i]\n",
    "\n",
    "    def get_number_of_tests(self):\n",
    "        return len(self.time)\n",
    "\n",
    "    def init_random(self, n_tests, max_time, max_code, p=0.05):\n",
    "        # initialize a test database randomly\n",
    "        self.coverage = []\n",
    "        self.time = []\n",
    "        for i in range(n_tests):\n",
    "            t_time = randint(1, max_time)\n",
    "            t_coverage = []\n",
    "            for i in range(1, max_code + 1):\n",
    "                if rand() < p:\n",
    "                    t_coverage.append(i)\n",
    "            self.time.append(t_time)\n",
    "            self.coverage.append(t_coverage)\n",
    "\n",
    "    def load_from_file(self, fn):\n",
    "        # load test database from file with name fn\n",
    "        # file format:\n",
    "        #  line i represents test i as comma separated value\n",
    "        #   the first value is the time to execute the test\n",
    "        #   the other values are the lines covered by the test\n",
    "        #  Example\n",
    "        #   5, 1, 5, 7 -> A test that covers lines 1,5,7 and takes 5 seconds to run\n",
    "        self.coverage = []\n",
    "        self.time = []\n",
    "        with open(fn, \"rt\") as fd:\n",
    "            for line in fd.readlines():\n",
    "                words = line.split(\",\")\n",
    "                self.time.append(float(words[0]))\n",
    "                self.coverage.append(list(map(lambda x: int(x), words[1:])))\n",
    "\n",
    "    def write_to_file(self, fn):\n",
    "        # write the test database to a file with name fn\n",
    "        with open(fn, \"wt\") as fd:\n",
    "            for time, coverage in zip(self.time, self.coverage):\n",
    "                fd.write(str(time))\n",
    "                for i in coverage:\n",
    "                    fd.write(\", \" + str(i))\n",
    "                fd.write(\"\\n\")"
   ],
   "outputs": [],
   "execution_count": 16
  },
  {
   "cell_type": "markdown",
   "metadata": {
    "deletable": false,
    "editable": false,
    "nbgrader": {
     "cell_type": "markdown",
     "checksum": "b25bc1a6ac1183cfa526e83954d7e669",
     "grade": false,
     "grade_id": "cell-8be78ec3066c0020",
     "locked": true,
     "schema_version": 3,
     "solution": false,
     "task": false
    }
   },
   "source": [
    "### Objective Function\n",
    "This is already implemented\n",
    "\n",
    "Each solution is a set of tests and has two objectives total execution time, to be minimized total program coverage, to be maximized"
   ]
  },
  {
   "cell_type": "code",
   "metadata": {
    "deletable": false,
    "editable": false,
    "nbgrader": {
     "cell_type": "code",
     "checksum": "6f89e083a783ff8befff94ebd34783ac",
     "grade": false,
     "grade_id": "cell-f1155bc437aacd11",
     "locked": true,
     "schema_version": 3,
     "solution": false,
     "task": false
    },
    "ExecuteTime": {
     "end_time": "2024-06-14T13:59:29.677540Z",
     "start_time": "2024-06-14T13:59:29.672726Z"
    }
   },
   "source": [
    "def objectives(x, db, cache={}):\n",
    "    # returns the objectives of a solution\n",
    "    # this function is ready\n",
    "    # Note that the dictionary used as default value for cache is initialized once\n",
    "    # when the module is created!\n",
    "    coverage = set()\n",
    "    total_time = 0\n",
    "    if db not in cache:\n",
    "        # first use with TestDatabase object\n",
    "        cache[db] = {}\n",
    "    x = tuple(x)\n",
    "    if x in cache[db].keys():\n",
    "        # cache hit\n",
    "        return cache[db][x]\n",
    "\n",
    "    for i in range(len(x)):\n",
    "        if x[i] == 1:\n",
    "            total_time = total_time + db.get_time(i)\n",
    "            coverage.update(db.get_coverage(i))\n",
    "    result = (total_time, len(coverage))\n",
    "    cache[db][x] = result\n",
    "    return result"
   ],
   "outputs": [],
   "execution_count": 17
  },
  {
   "cell_type": "markdown",
   "metadata": {
    "deletable": false,
    "editable": false,
    "nbgrader": {
     "cell_type": "markdown",
     "checksum": "e20bd9a50be690881de1b1990ffcc2b3",
     "grade": false,
     "grade_id": "cell-47efd74f1ac82d2c",
     "locked": true,
     "schema_version": 3,
     "solution": false,
     "task": false
    }
   },
   "source": [
    "### Genetic algorithm\n",
    "This is already implemented  (can be changed)"
   ]
  },
  {
   "cell_type": "code",
   "metadata": {
    "ExecuteTime": {
     "end_time": "2024-06-14T13:59:29.701265Z",
     "start_time": "2024-06-14T13:59:29.697432Z"
    }
   },
   "source": [
    "def genetic_algorithm(db, fitness, n_bits, n_iter, n_pop, r_cross, r_mut):\n",
    "    # initial population of random bitstring\n",
    "    population = [randint(0, 2, n_bits).tolist() for _ in range(n_pop)]\n",
    "    # enumerate generations\n",
    "    for gen in range(n_iter):\n",
    "        # evaluate all candidates in the population\n",
    "\n",
    "        # adding the pareto front rank for each candidate\n",
    "        scores = [fitness(c, db) for c in population]\n",
    "\n",
    "        # select parents\n",
    "        selected = [selection(population, scores) for _ in range(n_pop)]\n",
    "        # create the next generation\n",
    "        children = list()\n",
    "        for i in range(0, n_pop, 2):\n",
    "            # get selected parents in pairs\n",
    "            p1, p2 = selected[i], selected[i + 1]\n",
    "            # crossover and mutation\n",
    "            for c in crossover(p1, p2, r_cross):\n",
    "                # mutation\n",
    "                c = mutation(c, r_mut)\n",
    "                # store for next generation\n",
    "                children.append(c)\n",
    "        # replace population\n",
    "        population = children\n",
    "        # plot progress\n",
    "        if gen == n_iter:\n",
    "            plot_population(gen, population, db)\n",
    "    # plot final population\n",
    "    plot_population(n_iter, population, db)\n",
    "    return pareto_front(population, db), population"
   ],
   "outputs": [],
   "execution_count": 18
  },
  {
   "cell_type": "markdown",
   "metadata": {
    "deletable": false,
    "editable": false,
    "nbgrader": {
     "cell_type": "markdown",
     "checksum": "d87ad93a485b64a52eff81ddfdfffad2",
     "grade": false,
     "grade_id": "cell-ec35cf914795f480",
     "locked": true,
     "schema_version": 3,
     "solution": false,
     "task": false
    }
   },
   "source": [
    "### Task 1: Multi objective fitness function"
   ]
  },
  {
   "cell_type": "code",
   "metadata": {
    "deletable": false,
    "nbgrader": {
     "cell_type": "code",
     "checksum": "5f2dd9a14e4a9fa917978c25120fc17e",
     "grade": false,
     "grade_id": "cell-2e7ab684dac27d20",
     "locked": false,
     "schema_version": 3,
     "solution": true,
     "task": false
    },
    "ExecuteTime": {
     "end_time": "2024-06-14T13:59:29.711478Z",
     "start_time": "2024-06-14T13:59:29.709243Z"
    }
   },
   "source": [
    "def fitness(solution, db):\n",
    "    execution_time = 0\n",
    "    code_coverage = 0\n",
    "    for i in range(len(solution)):\n",
    "        if solution[i] == 1:\n",
    "            execution_time += db.get_time(i)\n",
    "            code_coverage += len(db.get_coverage(i))\n",
    "    return execution_time, -code_coverage\n"
   ],
   "outputs": [],
   "execution_count": 19
  },
  {
   "cell_type": "markdown",
   "metadata": {
    "deletable": false,
    "editable": false,
    "nbgrader": {
     "cell_type": "markdown",
     "checksum": "edffa25dad45931f3688ea1ad851ffb8",
     "grade": false,
     "grade_id": "cell-675228ce3ec3c80c",
     "locked": true,
     "schema_version": 3,
     "solution": false,
     "task": false
    }
   },
   "source": [
    "### Task 2: Selection method with multi objective fitness function and pareto front"
   ]
  },
  {
   "cell_type": "code",
   "metadata": {
    "deletable": false,
    "nbgrader": {
     "cell_type": "code",
     "checksum": "6472031b1e9d8fd9d470282d6153cc55",
     "grade": false,
     "grade_id": "cell-267307460345ca23",
     "locked": false,
     "schema_version": 3,
     "solution": true,
     "task": false
    },
    "ExecuteTime": {
     "end_time": "2024-06-14T13:59:29.715167Z",
     "start_time": "2024-06-14T13:59:29.712584Z"
    }
   },
   "source": [
    "def selection(population, scores, k=3):\n",
    "    # Tournament size can be adjusted. \n",
    "    tournament_size = k\n",
    "    # Randomly select individuals for the tournament\n",
    "    tournament_indices = [random.randrange(len(population)) for _ in range(tournament_size)]\n",
    "    # Select the index of the individual with the highest fitness in the tournament\n",
    "    best_index = tournament_indices[0]\n",
    "    for index in tournament_indices:\n",
    "        if scores[index] > scores[best_index]:\n",
    "            best_index = index\n",
    "    # Return the winning individual from the population\n",
    "    return population[best_index]\n"
   ],
   "outputs": [],
   "execution_count": 20
  },
  {
   "cell_type": "markdown",
   "metadata": {
    "deletable": false,
    "editable": false,
    "nbgrader": {
     "cell_type": "markdown",
     "checksum": "0be14693f7f64d3ccbafd33193e2aab4",
     "grade": false,
     "grade_id": "cell-f8eb871add5866f5",
     "locked": true,
     "schema_version": 3,
     "solution": false,
     "task": false
    }
   },
   "source": [
    "### Crossover method"
   ]
  },
  {
   "cell_type": "code",
   "metadata": {
    "deletable": false,
    "nbgrader": {
     "cell_type": "code",
     "checksum": "fa9d2c00c0c2624b9ba4813361b3dbae",
     "grade": false,
     "grade_id": "cell-0b69193120ce27f6",
     "locked": false,
     "schema_version": 3,
     "solution": true,
     "task": false
    },
    "ExecuteTime": {
     "end_time": "2024-06-14T13:59:29.727210Z",
     "start_time": "2024-06-14T13:59:29.725066Z"
    }
   },
   "source": [
    "def crossover(p1, p2, r_cross):\n",
    "    if random.random() < r_cross:\n",
    "        point = randint(1, len(p1) - 2)\n",
    "        return p1[:point] + p2[point:], p2[:point] + p1[point:]\n",
    "    return p1, p2\n"
   ],
   "outputs": [],
   "execution_count": 21
  },
  {
   "cell_type": "markdown",
   "metadata": {
    "deletable": false,
    "editable": false,
    "nbgrader": {
     "cell_type": "markdown",
     "checksum": "8b5673548e48a0da5e97ea7e368561df",
     "grade": false,
     "grade_id": "cell-0cde37bd029cae78",
     "locked": true,
     "schema_version": 3,
     "solution": false,
     "task": false
    }
   },
   "source": [
    "### Mutation operator"
   ]
  },
  {
   "cell_type": "code",
   "metadata": {
    "deletable": false,
    "nbgrader": {
     "cell_type": "code",
     "checksum": "cd1583c493f62c9885add67c5445a1b6",
     "grade": false,
     "grade_id": "cell-e365689d6e08da39",
     "locked": false,
     "schema_version": 3,
     "solution": true,
     "task": false
    },
    "ExecuteTime": {
     "end_time": "2024-06-14T13:59:29.736226Z",
     "start_time": "2024-06-14T13:59:29.733779Z"
    }
   },
   "source": [
    "def mutation(bitstring, r_mut):\n",
    "    for i in range(len(bitstring)):\n",
    "        if random.random() < r_mut:\n",
    "            bitstring[i] = 1 - bitstring[i]\n",
    "    return bitstring\n"
   ],
   "outputs": [],
   "execution_count": 22
  },
  {
   "cell_type": "markdown",
   "metadata": {
    "deletable": false,
    "editable": false,
    "nbgrader": {
     "cell_type": "markdown",
     "checksum": "5a9e6b942f404fb25474d5c00c5cfe9e",
     "grade": false,
     "grade_id": "cell-219a7f30f5e5e3ed",
     "locked": true,
     "schema_version": 3,
     "solution": false,
     "task": false
    }
   },
   "source": [
    "### Pareto domination and pareto front functions"
   ]
  },
  {
   "cell_type": "code",
   "metadata": {
    "deletable": false,
    "editable": false,
    "nbgrader": {
     "cell_type": "code",
     "checksum": "7ffc67bf4ef1f212a11bc6ffc9f82a1c",
     "grade": false,
     "grade_id": "cell-9bf5e6e8c5bddea8",
     "locked": true,
     "schema_version": 3,
     "solution": false,
     "task": false
    },
    "ExecuteTime": {
     "end_time": "2024-06-14T13:59:29.758642Z",
     "start_time": "2024-06-14T13:59:29.755297Z"
    }
   },
   "source": [
    "def pareto_domination(a, b, db):\n",
    "    # Returns True if solution a dominates solution b ?\n",
    "    # First objective (time) should be minimized\n",
    "    # The second objective (coverage) should be maximized\n",
    "    r = False\n",
    "    if objectives(a, db)[0] < objectives(b, db)[0]:\n",
    "        r = True\n",
    "    elif objectives(b, db)[0] < objectives(a, db)[0]:\n",
    "        return False\n",
    "    if objectives(a, db)[1] > objectives(b, db)[1]:\n",
    "        r = True\n",
    "    elif objectives(b, db)[1] > objectives(a, db)[1]:\n",
    "        return False\n",
    "    return r"
   ],
   "outputs": [],
   "execution_count": 23
  },
  {
   "cell_type": "code",
   "metadata": {
    "deletable": false,
    "editable": false,
    "nbgrader": {
     "cell_type": "code",
     "checksum": "876cdb3e87d7929e0d9a0505e219c019",
     "grade": false,
     "grade_id": "cell-b65129a89f477a48",
     "locked": true,
     "schema_version": 3,
     "solution": false,
     "task": false
    },
    "ExecuteTime": {
     "end_time": "2024-06-14T13:59:29.773682Z",
     "start_time": "2024-06-14T13:59:29.770258Z"
    }
   },
   "source": [
    "def pareto_front(population, db):\n",
    "    # Returns the pareto front of the population\n",
    "    r = set()\n",
    "    for p in population:\n",
    "        r.add(tuple(p))\n",
    "        for i in copy.copy(r):\n",
    "            if i == tuple(p):\n",
    "                continue\n",
    "            if pareto_domination(i, p, db):\n",
    "                r.remove(tuple(p))\n",
    "                break\n",
    "            elif pareto_domination(p, i, db):\n",
    "                r.remove(tuple(i))\n",
    "    return r"
   ],
   "outputs": [],
   "execution_count": 24
  },
  {
   "cell_type": "markdown",
   "metadata": {
    "deletable": false,
    "editable": false,
    "nbgrader": {
     "cell_type": "markdown",
     "checksum": "30d408495f02326c8357a82864658a3d",
     "grade": false,
     "grade_id": "cell-638aff06283ef571",
     "locked": true,
     "schema_version": 3,
     "solution": false,
     "task": false
    }
   },
   "source": [
    "#### Show a plot with the population and the pareto front"
   ]
  },
  {
   "cell_type": "code",
   "metadata": {
    "deletable": false,
    "editable": false,
    "nbgrader": {
     "cell_type": "code",
     "checksum": "e92bc5423bfc5a972e44796365c20c4a",
     "grade": false,
     "grade_id": "cell-5f3ab19d8eb743b3",
     "locked": true,
     "schema_version": 3,
     "solution": false,
     "task": false
    },
    "ExecuteTime": {
     "end_time": "2024-06-14T13:59:29.779835Z",
     "start_time": "2024-06-14T13:59:29.775774Z"
    }
   },
   "source": [
    "def plot_population(generation, population, db):\n",
    "    front = pareto_front(population, db)\n",
    "    plt.scatter(\n",
    "        list(map(lambda i: objectives(i, db)[0], population)),\n",
    "        list(map(lambda i: objectives(i, db)[1], population)),\n",
    "        color=\"blue\",\n",
    "    )\n",
    "    plt.scatter(\n",
    "        list(map(lambda i: objectives(i, db)[0], front)),\n",
    "        list(map(lambda i: objectives(i, db)[1], front)),\n",
    "        color=\"red\",\n",
    "        s=50,\n",
    "    )\n",
    "    plt.plot(\n",
    "        sorted(list(map(lambda i: objectives(i, db)[0], front))),\n",
    "        sorted(list(map(lambda i: objectives(i, db)[1], front))),\n",
    "        color=\"red\",\n",
    "        lw=2.5,\n",
    "        label=\"Pareto front\",\n",
    "    )\n",
    "    plt.title(\"Generation \" + str(generation))\n",
    "    plt.xlabel(\"Time\")\n",
    "    plt.ylabel(\"Code Coverage\")\n",
    "    plt.legend()\n",
    "    plt.show()"
   ],
   "outputs": [],
   "execution_count": 25
  },
  {
   "cell_type": "markdown",
   "metadata": {
    "deletable": false,
    "editable": false,
    "nbgrader": {
     "cell_type": "markdown",
     "checksum": "f57e6ca60bb64730453bc55927b1bfc3",
     "grade": false,
     "grade_id": "cell-a86c34225690c17e",
     "locked": true,
     "schema_version": 3,
     "solution": false,
     "task": false
    }
   },
   "source": [
    "### Initialize the problems"
   ]
  },
  {
   "cell_type": "code",
   "metadata": {
    "deletable": false,
    "editable": false,
    "nbgrader": {
     "cell_type": "code",
     "checksum": "5e3f202bd5213f563673b164c363380c",
     "grade": false,
     "grade_id": "cell-846e96157729b663",
     "locked": true,
     "schema_version": 3,
     "solution": false,
     "task": false
    },
    "ExecuteTime": {
     "end_time": "2024-06-14T13:59:29.789336Z",
     "start_time": "2024-06-14T13:59:29.785228Z"
    }
   },
   "source": [
    "p1 = TestDatabase()\n",
    "p1.load_from_file(\"../res/data/problem1.txt\")\n",
    "\n",
    "p2 = TestDatabase()\n",
    "p2.load_from_file(\"../res/data/problem2.txt\")\n",
    "\n",
    "p3 = TestDatabase()\n",
    "p3.load_from_file(\"../res/data/problem3.txt\")\n",
    "\n",
    "max_time = 1000"
   ],
   "outputs": [],
   "execution_count": 26
  },
  {
   "cell_type": "markdown",
   "metadata": {
    "deletable": false,
    "editable": false,
    "nbgrader": {
     "cell_type": "markdown",
     "checksum": "aeac9b0e1b985f5dccaeb3e1f131538d",
     "grade": false,
     "grade_id": "cell-f0d444586e167a3e",
     "locked": true,
     "schema_version": 3,
     "solution": false,
     "task": false
    }
   },
   "source": [
    "#### Problem 1\n",
    "##### Initialize the parameters and solve the problem with the genetic algorithm"
   ]
  },
  {
   "cell_type": "code",
   "metadata": {
    "ExecuteTime": {
     "end_time": "2024-06-14T13:59:30.345383Z",
     "start_time": "2024-06-14T13:59:29.810962Z"
    }
   },
   "source": [
    "n_iter = 100\n",
    "# bits: one bit per each test that may be executed\n",
    "n_bits = p1.get_number_of_tests()\n",
    "# define the population size, you can change this\n",
    "n_pop = 200\n",
    "# crossover rate, you can change this\n",
    "r_cross = 0.9\n",
    "# mutation rate, you can change this\n",
    "r_mut = 1.0 / float(n_bits)\n",
    "\n",
    "front, population = genetic_algorithm(\n",
    "    p1, fitness, n_bits, n_iter, n_pop, r_cross, r_mut\n",
    ")"
   ],
   "outputs": [
    {
     "data": {
      "text/plain": [
       "<Figure size 640x480 with 1 Axes>"
      ],
      "image/png": "[encoded data removed]"
     },
     "metadata": {},
     "output_type": "display_data"
    }
   ],
   "execution_count": 27
  },
  {
   "cell_type": "markdown",
   "metadata": {
    "deletable": false,
    "editable": false,
    "nbgrader": {
     "cell_type": "markdown",
     "checksum": "6963154ee5f67e7c4e56b24262114c87",
     "grade": false,
     "grade_id": "cell-6f34b83dccd16f90",
     "locked": true,
     "points": 0,
     "schema_version": 3,
     "solution": false,
     "task": true
    }
   },
   "source": [
    "Discuss the pareto front; is it optimal? could it be improved? Try different parameters and see if it changes."
   ]
  },
  {
   "cell_type": "markdown",
   "metadata": {
    "deletable": false,
    "nbgrader": {
     "cell_type": "markdown",
     "checksum": "a9210c74bd8d637db6e07445de079f27",
     "grade": true,
     "grade_id": "cell-e9f7f681306d14f1",
     "locked": false,
     "points": 1,
     "schema_version": 3,
     "solution": true,
     "task": false
    }
   },
   "source": [
    "A Pareto front is \"optimal\" in a multi-objective sense if it accurately represents the trade-off frontier where no improvements can be made in one objective without sacrificing another. Whether the obtained Pareto front is optimal depends on the diversity and quality of solutions it contains.\n",
    "\n",
    "Image 1 (n_pop = 200, r_cross = 0.9): This setup shows a Pareto front that stretches across a broad range of the objective space, suggesting that a larger population size has allowed the GA to explore more diverse solutions. The higher crossover rate has likely contributed to the convergence of solutions towards a Pareto optimal front, as indicated by the dense clustering of blue points near the red line.\n"
   ]
  },
  {
   "cell_type": "markdown",
   "metadata": {
    "deletable": false,
    "editable": false,
    "nbgrader": {
     "cell_type": "markdown",
     "checksum": "016f3d07a59352f06cac264344e08c8c",
     "grade": false,
     "grade_id": "cell-ab7b68eb6b999187",
     "locked": true,
     "schema_version": 3,
     "solution": false,
     "task": false
    }
   },
   "source": [
    "#### Problem 1\n",
    "##### Initialize the parameters and solve the problem with the genetic algorithm"
   ]
  },
  {
   "cell_type": "code",
   "metadata": {
    "ExecuteTime": {
     "end_time": "2024-06-14T13:59:30.653203Z",
     "start_time": "2024-06-14T13:59:30.348103Z"
    }
   },
   "source": [
    "n_iter = 100\n",
    "# bits: one bit per each test that may be executed\n",
    "n_bits = p2.get_number_of_tests()\n",
    "# define the population size, you can change this\n",
    "n_pop = 100\n",
    "# crossover rate, you can change this\n",
    "r_cross = 0.9\n",
    "# mutation rate, you can change this\n",
    "r_mut = 1.0 / float(n_bits)\n",
    "\n",
    "front, population = genetic_algorithm(\n",
    "    p2, fitness, n_bits, n_iter, n_pop, r_cross, r_mut\n",
    ")"
   ],
   "outputs": [
    {
     "data": {
      "text/plain": [
       "<Figure size 640x480 with 1 Axes>"
      ],
      "image/png": "[encoded data removed]"
     },
     "metadata": {},
     "output_type": "display_data"
    }
   ],
   "execution_count": 28
  },
  {
   "cell_type": "markdown",
   "metadata": {
    "deletable": false,
    "editable": false,
    "nbgrader": {
     "cell_type": "markdown",
     "checksum": "eef08897b6f93e0db7f2dd874659b3c9",
     "grade": false,
     "grade_id": "cell-aceef9fba0ccd2d7",
     "locked": true,
     "points": 0,
     "schema_version": 3,
     "solution": false,
     "task": true
    }
   },
   "source": [
    "Discuss the pareto front; is it optimal? could it be improved? Try different parameters and see if it changes."
   ]
  },
  {
   "cell_type": "markdown",
   "metadata": {
    "deletable": false,
    "nbgrader": {
     "cell_type": "markdown",
     "checksum": "5cc6a40d277331022e09f5f1e28f8919",
     "grade": true,
     "grade_id": "cell-7512a30499dfba7c",
     "locked": false,
     "points": 2,
     "schema_version": 3,
     "solution": true,
     "task": false
    }
   },
   "source": [
    "Image 2 (n_pop = 100, r_cross = 0.9): With a smaller population, the diversity of solutions is less compared to the first image. The Pareto front is smoother, which suggests the population has converged well, but possibly at the expense of exploring the entire objective space. The results may indicate that some potentially optimal solutions could be missed due to the smaller population size."
   ]
  },
  {
   "cell_type": "markdown",
   "metadata": {
    "deletable": false,
    "editable": false,
    "nbgrader": {
     "cell_type": "markdown",
     "checksum": "da7d894a3ce14572cbc6c1be56c0dec2",
     "grade": false,
     "grade_id": "cell-712b27340c827163",
     "locked": true,
     "schema_version": 3,
     "solution": false,
     "task": false
    }
   },
   "source": [
    "#### Problem 1\n",
    "##### Initialize the parameters and solve the problem with the genetic algorithm"
   ]
  },
  {
   "cell_type": "code",
   "metadata": {
    "ExecuteTime": {
     "end_time": "2024-06-14T13:59:31.085839Z",
     "start_time": "2024-06-14T13:59:30.654552Z"
    }
   },
   "source": [
    "n_iter = 100\n",
    "# bits: one bit per each test that may be executed\n",
    "n_bits = p3.get_number_of_tests()\n",
    "# define the population size, you can change this\n",
    "n_pop = 200\n",
    "# crossover rate, you can change this\n",
    "r_cross = 0.7\n",
    "# mutation rate, you can change this\n",
    "r_mut = 1.0 / float(n_bits)\n",
    "\n",
    "front, population = genetic_algorithm(\n",
    "    p3, fitness, n_bits, n_iter, n_pop, r_cross, r_mut\n",
    ")"
   ],
   "outputs": [
    {
     "data": {
      "text/plain": [
       "<Figure size 640x480 with 1 Axes>"
      ],
      "image/png": "[encoded data removed]"
     },
     "metadata": {},
     "output_type": "display_data"
    }
   ],
   "execution_count": 29
  },
  {
   "cell_type": "markdown",
   "metadata": {
    "deletable": false,
    "editable": false,
    "nbgrader": {
     "cell_type": "markdown",
     "checksum": "3790d733acc8647133bdfd9e66b42b40",
     "grade": false,
     "grade_id": "cell-2e2a94c703c7cd0c",
     "locked": true,
     "points": 0,
     "schema_version": 3,
     "solution": false,
     "task": true
    }
   },
   "source": [
    "Discuss the pareto front; is it optimal? could it be improved? Try different parameters and see if it changes."
   ]
  },
  {
   "cell_type": "markdown",
   "metadata": {
    "deletable": false,
    "nbgrader": {
     "cell_type": "markdown",
     "checksum": "dba511a6a879181e88d9ba658d5d96b7",
     "grade": true,
     "grade_id": "cell-65cd79a0e2c6d3b1",
     "locked": false,
     "points": 2,
     "schema_version": 3,
     "solution": true,
     "task": false
    }
   },
   "source": [
    "Image 3 (n_pop = 200, r_cross = 0.7): The lower crossover rate combined with a larger population size leads to a Pareto front that is spread out, indicating a more extensive exploration of the solution space. The spread of blue points suggests less convergence, but the diversity is higher, which could be beneficial for finding a wide range of trade-off solutions."
   ]
  }
 ],
 "metadata": {
  "kernelspec": {
   "display_name": "Python 3 (ipykernel)",
   "language": "python",
   "name": "python3"
  },
  "language_info": {
   "codemirror_mode": {
    "name": "ipython",
    "version": 3
   },
   "file_extension": ".py",
   "mimetype": "text/x-python",
   "name": "python",
   "nbconvert_exporter": "python",
   "pygments_lexer": "ipython3",
   "version": "3.10.6"
  }
 },
 "nbformat": 4,
 "nbformat_minor": 4
}
