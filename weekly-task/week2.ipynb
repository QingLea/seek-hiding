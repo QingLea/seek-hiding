{
 "cells": [
  {
   "cell_type": "markdown",
   "metadata": {
    "deletable": false,
    "editable": false,
    "nbgrader": {
     "cell_type": "markdown",
     "checksum": "27ad9bffc8683bd3bec0d0809521e0ba",
     "grade": false,
     "grade_id": "cell-5761e8fe038f1ce1",
     "locked": true,
     "schema_version": 3,
     "solution": false,
     "task": false
    }
   },
   "source": [
    "---"
   ]
  },
  {
   "cell_type": "markdown",
   "metadata": {
    "deletable": false,
    "editable": false,
    "nbgrader": {
     "cell_type": "markdown",
     "checksum": "8b35c13ede99be3e38c6cde16200d510",
     "grade": false,
     "grade_id": "cell-2029e20d248073dd",
     "locked": true,
     "schema_version": 3,
     "solution": false,
     "task": false
    }
   },
   "source": [
    "# IT00CJ42: Search and Optimization Algorithms"
   ]
  },
  {
   "cell_type": "markdown",
   "metadata": {
    "deletable": false,
    "editable": false,
    "nbgrader": {
     "cell_type": "markdown",
     "checksum": "f873368fab1421a561427722d12bbb1e",
     "grade": false,
     "grade_id": "cell-66d480b3cea6503e",
     "locked": true,
     "schema_version": 3,
     "solution": false,
     "task": false
    }
   },
   "source": [
    "**Restart the kernel and run all cells** before you turn this problem in, make sure everything runs as expected.\n",
    "\n",
    "Make sure you fill in any place that says `YOUR CODE HERE`."
   ]
  },
  {
   "cell_type": "markdown",
   "metadata": {
    "deletable": false,
    "editable": false,
    "nbgrader": {
     "cell_type": "markdown",
     "checksum": "745172cac887adbdc30b82cf6668bc67",
     "grade": false,
     "grade_id": "cell-20d2680bb31d7bf4",
     "locked": true,
     "schema_version": 3,
     "solution": false,
     "task": false
    }
   },
   "source": [
    "---"
   ]
  },
  {
   "cell_type": "markdown",
   "metadata": {
    "deletable": false,
    "editable": false,
    "nbgrader": {
     "cell_type": "markdown",
     "checksum": "4c78418d79c22ca2ce461f6adbd78c22",
     "grade": false,
     "grade_id": "cell-30779b50a3a08084",
     "locked": true,
     "schema_version": 3,
     "solution": false,
     "task": false
    }
   },
   "source": [
    "## Week 2"
   ]
  },
  {
   "cell_type": "markdown",
   "metadata": {
    "deletable": false,
    "editable": false,
    "nbgrader": {
     "cell_type": "markdown",
     "checksum": "61ef318581e91ab891b676aad4a0fdb0",
     "grade": false,
     "grade_id": "cell-32784808244430a6",
     "locked": true,
     "schema_version": 3,
     "solution": false,
     "task": false
    }
   },
   "source": [
    "### Imports"
   ]
  },
  {
   "cell_type": "code",
   "metadata": {
    "deletable": false,
    "editable": false,
    "nbgrader": {
     "cell_type": "code",
     "checksum": "1516b217c3e77bbdb7a314c01607c152",
     "grade": false,
     "grade_id": "cell-738cd064600989b7",
     "locked": true,
     "schema_version": 3,
     "solution": false,
     "task": false
    },
    "ExecuteTime": {
     "end_time": "2024-06-14T14:06:46.624199Z",
     "start_time": "2024-06-14T14:06:46.213175Z"
    }
   },
   "source": [
    "import random\n",
    "import math\n",
    "import numpy as np\n",
    "import matplotlib.pyplot as plt\n",
    "import statistics\n",
    "import scipy\n",
    "\n",
    "np.random.seed(1)"
   ],
   "outputs": [],
   "execution_count": 1
  },
  {
   "cell_type": "markdown",
   "metadata": {
    "deletable": false,
    "editable": false,
    "nbgrader": {
     "cell_type": "markdown",
     "checksum": "a6a51365e94bb4b4aa04344f0074d256",
     "grade": false,
     "grade_id": "cell-c3fe29789a87218a",
     "locked": true,
     "schema_version": 3,
     "solution": false,
     "task": false
    }
   },
   "source": [
    "### Solutions check\n",
    "We use the function **check** to implement tests for your solution"
   ]
  },
  {
   "cell_type": "code",
   "metadata": {
    "deletable": false,
    "editable": false,
    "nbgrader": {
     "cell_type": "code",
     "checksum": "f64b2d928e310fe23f49b4bcdec5f004",
     "grade": false,
     "grade_id": "cell-a3e214e3b1b5e199",
     "locked": true,
     "schema_version": 3,
     "solution": false,
     "task": false
    },
    "ExecuteTime": {
     "end_time": "2024-06-14T14:06:46.627640Z",
     "start_time": "2024-06-14T14:06:46.625276Z"
    }
   },
   "source": [
    "def check(expression, message=\"\"):\n",
    "    if not expression:\n",
    "        raise AssertionError(message)\n",
    "    return \"Passed\""
   ],
   "outputs": [],
   "execution_count": 2
  },
  {
   "cell_type": "markdown",
   "metadata": {
    "deletable": false,
    "editable": false,
    "nbgrader": {
     "cell_type": "markdown",
     "checksum": "1ff077ee58121698215b3bbd0aeef559",
     "grade": false,
     "grade_id": "cell-2a1f11136c062708",
     "locked": true,
     "schema_version": 3,
     "solution": false,
     "task": false
    }
   },
   "source": [
    "### Preliminaries\n",
    "We will use function_1 and function_2 as objective functions to optimize."
   ]
  },
  {
   "cell_type": "code",
   "metadata": {
    "deletable": false,
    "editable": false,
    "nbgrader": {
     "cell_type": "code",
     "checksum": "efd132c58c9ff44216d6eba8864119a4",
     "grade": false,
     "grade_id": "cell-f0eda0cd09670a2c",
     "locked": true,
     "schema_version": 3,
     "solution": false,
     "task": false
    },
    "ExecuteTime": {
     "end_time": "2024-06-14T14:06:46.630370Z",
     "start_time": "2024-06-14T14:06:46.628446Z"
    }
   },
   "source": [
    "def function_1(x):\n",
    "    return 0.1 * x ** 2 + 10 * math.sin(3 * x)\n",
    "def function_2(x):\n",
    "    return 0.1 * x ** 2 + 4 * math.cos(math.pi / 2 + 2 * x)"
   ],
   "outputs": [],
   "execution_count": 3
  },
  {
   "cell_type": "markdown",
   "metadata": {
    "deletable": false,
    "editable": false,
    "nbgrader": {
     "cell_type": "markdown",
     "checksum": "da7f13dca7bad9661cff711a10479171",
     "grade": false,
     "grade_id": "cell-afdc72812e219e33",
     "locked": true,
     "schema_version": 3,
     "solution": false,
     "task": false
    }
   },
   "source": [
    "You can pass a function as a parameter in Python.<br>\n",
    "<br>\n",
    "As an example, plot_function creates a 2D plot of the function passed as first parameters"
   ]
  },
  {
   "cell_type": "code",
   "metadata": {
    "deletable": false,
    "editable": false,
    "nbgrader": {
     "cell_type": "code",
     "checksum": "2b4c8671664c3262177d27b20cdfad42",
     "grade": false,
     "grade_id": "cell-a2be3185360e2838",
     "locked": true,
     "schema_version": 3,
     "solution": false,
     "task": false
    },
    "ExecuteTime": {
     "end_time": "2024-06-14T14:06:46.634089Z",
     "start_time": "2024-06-14T14:06:46.631268Z"
    }
   },
   "source": [
    "def plot_function(function, x_range_min, x_range_max, title=\"\", markers_x=None):\n",
    "    X = np.arange(x_range_min, x_range_max, 0.01)\n",
    "    Y = np.array([function(x) for x in X])\n",
    "    plt.plot(X, Y)\n",
    "    plt.xlabel('x')\n",
    "    plt.ylabel('y')\n",
    "    plt.grid()\n",
    "    plt.title(title)\n",
    "    if markers_x:\n",
    "        for marker_x in markers_x:\n",
    "            plt.scatter([marker_x], [function(marker_x)], color=\"red\")\n",
    "    plt.show()"
   ],
   "outputs": [],
   "execution_count": 4
  },
  {
   "cell_type": "markdown",
   "metadata": {
    "deletable": false,
    "editable": false,
    "nbgrader": {
     "cell_type": "markdown",
     "checksum": "b4b5ba874d128b0bcee6b50cb61c7653",
     "grade": false,
     "grade_id": "cell-bef49d36323c636a",
     "locked": true,
     "schema_version": 3,
     "solution": false,
     "task": false
    }
   },
   "source": [
    "Example: Create a plot of function_1<br>\n",
    "You can see that this function has many local maxima and minima."
   ]
  },
  {
   "cell_type": "code",
   "metadata": {
    "deletable": false,
    "editable": false,
    "nbgrader": {
     "cell_type": "code",
     "checksum": "3ed5883a12c205dbeb572326c3bf362e",
     "grade": false,
     "grade_id": "cell-8e85569eb5faef29",
     "locked": true,
     "schema_version": 3,
     "solution": false,
     "task": false
    },
    "ExecuteTime": {
     "end_time": "2024-06-14T14:06:46.717505Z",
     "start_time": "2024-06-14T14:06:46.635664Z"
    }
   },
   "source": [
    "plot_function(function_1, -10, 10)"
   ],
   "outputs": [
    {
     "data": {
      "text/plain": [
       "<Figure size 640x480 with 1 Axes>"
      ],
      "image/png": "[encoded data removed]"
     },
     "metadata": {},
     "output_type": "display_data"
    }
   ],
   "execution_count": 5
  },
  {
   "cell_type": "markdown",
   "metadata": {
    "deletable": false,
    "editable": false,
    "nbgrader": {
     "cell_type": "markdown",
     "checksum": "ec3e1765390e1a833df03e6010476c06",
     "grade": false,
     "grade_id": "cell-42fe45ca6748b375",
     "locked": true,
     "schema_version": 3,
     "solution": false,
     "task": false
    }
   },
   "source": [
    "xample: Create a plot of function_2<br>\n",
    "You can also see that this function has many local maxima and minima."
   ]
  },
  {
   "cell_type": "code",
   "metadata": {
    "deletable": false,
    "editable": false,
    "nbgrader": {
     "cell_type": "code",
     "checksum": "daba658f5ef60edb05d3403d3c6e2a52",
     "grade": false,
     "grade_id": "cell-9f9a2c900acdecf1",
     "locked": true,
     "schema_version": 3,
     "solution": false,
     "task": false
    },
    "ExecuteTime": {
     "end_time": "2024-06-14T14:06:46.790978Z",
     "start_time": "2024-06-14T14:06:46.718817Z"
    }
   },
   "source": [
    "plot_function(function_2, -10, 10)"
   ],
   "outputs": [
    {
     "data": {
      "text/plain": [
       "<Figure size 640x480 with 1 Axes>"
      ],
      "image/png": "[encoded data removed]"
     },
     "metadata": {},
     "output_type": "display_data"
    }
   ],
   "execution_count": 6
  },
  {
   "cell_type": "markdown",
   "metadata": {
    "deletable": false,
    "editable": false,
    "nbgrader": {
     "cell_type": "markdown",
     "checksum": "5ff73e2ea26385f9a3510c0474618a66",
     "grade": false,
     "grade_id": "cell-f6911a0284764f3e",
     "locked": true,
     "schema_version": 3,
     "solution": false,
     "task": false
    }
   },
   "source": [
    "The class ObjectiveFuctionMonitor is used to keep track of how many times<br>\n",
    "a given function is called."
   ]
  },
  {
   "cell_type": "code",
   "metadata": {
    "deletable": false,
    "editable": false,
    "nbgrader": {
     "cell_type": "code",
     "checksum": "cac6894817ce2fc6f96a195c8ea66cea",
     "grade": false,
     "grade_id": "cell-80984369636c8302",
     "locked": true,
     "schema_version": 3,
     "solution": false,
     "task": false
    },
    "ExecuteTime": {
     "end_time": "2024-06-14T14:06:46.795584Z",
     "start_time": "2024-06-14T14:06:46.791949Z"
    }
   },
   "source": [
    "class ObjectiveFuctionMonitor:\n",
    "    def __init__(self, objective_function):\n",
    "        self.objective_function = objective_function\n",
    "        self.reset()\n",
    "    def reset(self):\n",
    "        self.n_of_calls = 0\n",
    "        self.calls = []\n",
    "    def __call__(self, *args, **kwargs):\n",
    "        self.n_of_calls = self.n_of_calls + 1\n",
    "        result = self.objective_function(*args, **kwargs)\n",
    "        self.calls.append((args, kwargs, result))\n",
    "        return result"
   ],
   "outputs": [],
   "execution_count": 7
  },
  {
   "cell_type": "markdown",
   "metadata": {
    "deletable": false,
    "editable": false,
    "nbgrader": {
     "cell_type": "markdown",
     "checksum": "29f10612159c27c8fce6f8627e626128",
     "grade": false,
     "grade_id": "cell-cf00121a5c8e0e34",
     "locked": true,
     "schema_version": 3,
     "solution": false,
     "task": false
    }
   },
   "source": [
    "### Task 1\n",
    "Implement a minimization function by random search"
   ]
  },
  {
   "cell_type": "markdown",
   "metadata": {
    "editable": false,
    "nbgrader": {
     "cell_type": "markdown",
     "checksum": "29f10612159c27c8fce6f8627e626128",
     "grade": false,
     "grade_id": "cell-cf00121a5c8e0e34",
     "locked": true,
     "schema_version": 3,
     "solution": false,
     "task": false
    }
   },
   "source": [
    "trials = 0\n",
    "best = select a new random solution for S \n",
    "while trials < budget:\n",
    "s= select a new random solution \n",
    "If fitness(s) > fitness(best):\n",
    "best = s\n",
    "trials = trials+1\n"
   ]
  },
  {
   "cell_type": "code",
   "metadata": {
    "deletable": false,
    "nbgrader": {
     "cell_type": "code",
     "checksum": "09edf3a2c8609f8ad1210c31d26441dc",
     "grade": false,
     "grade_id": "cell-af7d505e86043983",
     "locked": false,
     "schema_version": 3,
     "solution": true,
     "task": false
    },
    "ExecuteTime": {
     "end_time": "2024-06-14T14:06:46.800762Z",
     "start_time": "2024-06-14T14:06:46.797613Z"
    }
   },
   "source": [
    "def random_search(function, r_min_x, r_max_x, budget):\n",
    "    \"\"\"random_search minimization\"\"\"\n",
    "    min_x = None\n",
    "    min_y = None\n",
    "    for i in range(budget):\n",
    "        cur_x = np.random.uniform(r_min_x,r_max_x)\n",
    "        cur_y = function(cur_x)\n",
    "        if min_y == None or cur_y < min_y:\n",
    "#             update the min_x and min_y\n",
    "            min_x = cur_x\n",
    "            min_y = cur_y\n",
    "    return min_x, min_y"
   ],
   "outputs": [],
   "execution_count": 8
  },
  {
   "cell_type": "markdown",
   "metadata": {
    "deletable": false,
    "editable": false,
    "nbgrader": {
     "cell_type": "markdown",
     "checksum": "a48642c6094f3a47d858abee055fac77",
     "grade": false,
     "grade_id": "cell-efcc10467e5871f4",
     "locked": true,
     "schema_version": 3,
     "solution": false,
     "task": false
    },
    "tags": []
   },
   "source": [
    "#### Check the solution\n",
    "Let's check your random search function"
   ]
  },
  {
   "cell_type": "code",
   "metadata": {
    "deletable": false,
    "editable": false,
    "nbgrader": {
     "cell_type": "code",
     "checksum": "343afd116a945bc66044e19739e993f5",
     "grade": false,
     "grade_id": "cell-46fef91d051ec4bb",
     "locked": true,
     "schema_version": 3,
     "solution": false,
     "task": false
    },
    "ExecuteTime": {
     "end_time": "2024-06-14T14:06:46.808008Z",
     "start_time": "2024-06-14T14:06:46.802542Z"
    }
   },
   "source": [
    "of = ObjectiveFuctionMonitor(function_1)\n",
    "min_x, min_y = random_search(of, -10, 10, 100)"
   ],
   "outputs": [],
   "execution_count": 9
  },
  {
   "cell_type": "code",
   "metadata": {
    "deletable": false,
    "editable": false,
    "nbgrader": {
     "cell_type": "code",
     "checksum": "30aa6db5774b7d881690f7d26516f9ed",
     "grade": true,
     "grade_id": "cell-54cdcf9e9fa8a5c4",
     "locked": true,
     "points": 1,
     "schema_version": 3,
     "solution": false,
     "task": false
    },
    "ExecuteTime": {
     "end_time": "2024-06-14T14:06:46.815917Z",
     "start_time": "2024-06-14T14:06:46.810265Z"
    }
   },
   "source": [
    "check(-10 <= min_x <= 10, \"x should be in range\")\n",
    "check(min_y == function_1(min_x) , \"y should be the image of x\")\n",
    "check(of.n_of_calls <= 100, \"do not exceed the budget\")"
   ],
   "outputs": [
    {
     "data": {
      "text/plain": [
       "'Passed'"
      ]
     },
     "execution_count": 10,
     "metadata": {},
     "output_type": "execute_result"
    }
   ],
   "execution_count": 10
  },
  {
   "cell_type": "markdown",
   "metadata": {
    "deletable": false,
    "editable": false,
    "nbgrader": {
     "cell_type": "markdown",
     "checksum": "42ea064a876f9361124b0fae8b4855b6",
     "grade": false,
     "grade_id": "cell-554c425ce29b729a",
     "locked": true,
     "schema_version": 3,
     "solution": false,
     "task": false
    }
   },
   "source": [
    "Run random_search 10 times, plot the results"
   ]
  },
  {
   "cell_type": "code",
   "metadata": {
    "deletable": false,
    "editable": false,
    "nbgrader": {
     "cell_type": "code",
     "checksum": "3df295b8a63ff9ea4e09dadb49fb8e3d",
     "grade": false,
     "grade_id": "cell-da981e6c9941b912",
     "locked": true,
     "schema_version": 3,
     "solution": false,
     "task": false
    },
    "ExecuteTime": {
     "end_time": "2024-06-14T14:06:46.953927Z",
     "start_time": "2024-06-14T14:06:46.817914Z"
    }
   },
   "source": [
    "X = [random_search(function_1, -10, 10, 100)[0] for i in range(10)]\n",
    "plot_function(function_1, -10, 10, \"Random Search (10 executions)\", markers_x=X)"
   ],
   "outputs": [
    {
     "data": {
      "text/plain": [
       "<Figure size 640x480 with 1 Axes>"
      ],
      "image/png": "[encoded data removed]"
     },
     "metadata": {},
     "output_type": "display_data"
    }
   ],
   "execution_count": 11
  },
  {
   "cell_type": "markdown",
   "metadata": {
    "deletable": false,
    "editable": false,
    "nbgrader": {
     "cell_type": "markdown",
     "checksum": "76ae07aadd7a6f36d531a0a1e2e5e769",
     "grade": false,
     "grade_id": "cell-532f6a44951bd515",
     "locked": true,
     "schema_version": 3,
     "solution": false,
     "task": false
    }
   },
   "source": [
    "### Task 2\n",
    "Implement a minimization function by hill climbing"
   ]
  },
  {
   "cell_type": "code",
   "metadata": {
    "deletable": false,
    "nbgrader": {
     "cell_type": "code",
     "checksum": "5d72636f3c15f6e34e2f10c5e54a3fb1",
     "grade": false,
     "grade_id": "cell-9d62a3f07f81bd54",
     "locked": false,
     "schema_version": 3,
     "solution": true,
     "task": false
    },
    "ExecuteTime": {
     "end_time": "2024-06-14T14:06:46.960093Z",
     "start_time": "2024-06-14T14:06:46.955254Z"
    }
   },
   "source": [
    "def hill_climbing(function, r_min_x, r_max_x, budget):\n",
    "    \"\"\"hill_climbing minimization\"\"\"\n",
    "    min_x = None\n",
    "    min_y = None\n",
    "    delta = (r_max_x - r_min_x) / budget\n",
    "    \n",
    "    min_x = np.random.uniform(r_min_x, r_max_x)\n",
    "    min_y = function(min_x)\n",
    "    for i in range((int)(budget/3)):\n",
    "        y_right = function(min_x+delta)\n",
    "        y_left = function(min_x-delta)\n",
    "        \n",
    "#         there are 2 cases: 1. left >= right, 2. left < right\n",
    "#         check the left and right neighbor of y\n",
    "        if min_x + delta < r_max_x and min_x - delta > r_min_x and y_right < min_y and y_left >= y_right:\n",
    "        # if min_x + delta < r_max_x and y_right < min_y and min_x - delta > r_min_x and y_left >= y_right:\n",
    "\n",
    "#         decreasing zone, left >= righ\n",
    "            min_x = min_x + delta\n",
    "            min_y = y_right\n",
    "        elif min_x - delta > r_min_x and y_left < min_y: \n",
    "#         increasing zone left <= right\n",
    "#         search leftward, if current min_x - delta still more than r_min_x\n",
    "#         set new min_x as min_x - delta\n",
    "#         set new min_y\n",
    "            min_x = min_x - delta\n",
    "            min_y = y_left\n",
    "        else:\n",
    "#           after some iterations, new min_x exceeds the boundary\n",
    "#           random helps to jump out the region min\n",
    "            alternative_x = np.random.uniform(r_min_x, r_max_x)\n",
    "            alternative_y = function(alternative_x)\n",
    "            if alternative_y < min_y:\n",
    "                min_x = alternative_x\n",
    "                min_y = alternative_y\n",
    "    \n",
    "    return min_x, min_y"
   ],
   "outputs": [],
   "execution_count": 12
  },
  {
   "cell_type": "markdown",
   "metadata": {
    "deletable": false,
    "editable": false,
    "nbgrader": {
     "cell_type": "markdown",
     "checksum": "6429b308955f766e24a46da1789bfdbf",
     "grade": false,
     "grade_id": "cell-0345b26c94efe897",
     "locked": true,
     "schema_version": 3,
     "solution": false,
     "task": false
    }
   },
   "source": [
    "#### Check the solution\n",
    "Hill climbing works and returns a solution in the given interval"
   ]
  },
  {
   "cell_type": "code",
   "metadata": {
    "deletable": false,
    "editable": false,
    "nbgrader": {
     "cell_type": "code",
     "checksum": "660faef4ccd5c8cd796776d83de541c2",
     "grade": false,
     "grade_id": "cell-49b74412da33eb69",
     "locked": true,
     "schema_version": 3,
     "solution": false,
     "task": false
    },
    "ExecuteTime": {
     "end_time": "2024-06-14T14:06:46.964369Z",
     "start_time": "2024-06-14T14:06:46.961258Z"
    }
   },
   "source": [
    "of = ObjectiveFuctionMonitor(function_1)\n",
    "min_x, min_y = hill_climbing(of, -10, 10, 100)"
   ],
   "outputs": [],
   "execution_count": 13
  },
  {
   "cell_type": "code",
   "metadata": {
    "deletable": false,
    "editable": false,
    "nbgrader": {
     "cell_type": "code",
     "checksum": "6b979c03ea4f6c19a7f0d1ecffb179db",
     "grade": true,
     "grade_id": "cell-737373e6a483fc19",
     "locked": true,
     "points": 1,
     "schema_version": 3,
     "solution": false,
     "task": false
    },
    "ExecuteTime": {
     "end_time": "2024-06-14T14:06:46.972370Z",
     "start_time": "2024-06-14T14:06:46.968108Z"
    }
   },
   "source": [
    "check(-10 <= min_x <= 10,  \"x should be in range\")\n",
    "check(min_y == function_1(min_x) , \"y should be the image of x\")\n",
    "check(of.n_of_calls <= 100, \"do not exceed the budget\")"
   ],
   "outputs": [
    {
     "data": {
      "text/plain": [
       "'Passed'"
      ]
     },
     "execution_count": 14,
     "metadata": {},
     "output_type": "execute_result"
    }
   ],
   "execution_count": 14
  },
  {
   "cell_type": "markdown",
   "metadata": {
    "deletable": false,
    "editable": false,
    "nbgrader": {
     "cell_type": "markdown",
     "checksum": "2241b60f0d3814c3c8b3a86c4345634c",
     "grade": false,
     "grade_id": "cell-a22795ec3f5606dd",
     "locked": true,
     "schema_version": 3,
     "solution": false,
     "task": false
    }
   },
   "source": [
    "Check Task: Run hill climbing 10 times, plot the results"
   ]
  },
  {
   "cell_type": "code",
   "metadata": {
    "deletable": false,
    "editable": false,
    "nbgrader": {
     "cell_type": "code",
     "checksum": "b12b032a0ba26fc8d138b2e1c804f209",
     "grade": false,
     "grade_id": "cell-131c8d906780b8a2",
     "locked": true,
     "schema_version": 3,
     "solution": false,
     "task": false
    },
    "ExecuteTime": {
     "end_time": "2024-06-14T14:06:47.090075Z",
     "start_time": "2024-06-14T14:06:46.973600Z"
    }
   },
   "source": [
    "X = [hill_climbing(function_1, -10, 10, 100)[0] for i in range(10)]\n",
    "plot_function(function_1, -10, 10, \"Hill Climbing (10 executions)\", markers_x=X)"
   ],
   "outputs": [
    {
     "data": {
      "text/plain": [
       "<Figure size 640x480 with 1 Axes>"
      ],
      "image/png": "[encoded data removed]"
     },
     "metadata": {},
     "output_type": "display_data"
    }
   ],
   "execution_count": 15
  },
  {
   "cell_type": "markdown",
   "metadata": {
    "deletable": false,
    "editable": false,
    "nbgrader": {
     "cell_type": "markdown",
     "checksum": "0b7ac8f3cc73d24d37b55d33850833aa",
     "grade": false,
     "grade_id": "cell-95e3649a9f5e5fff",
     "locked": true,
     "schema_version": 3,
     "solution": false,
     "task": false
    }
   },
   "source": [
    "### Task 3\n",
    "We are developing a software application and we have created a test suite containing many unit tests. There are two<br>\n",
    "important features of a unit test:<br>\n",
    "1) its code coverage (how much code of the software application is executed when running the test), and<br>\n",
    "2) its execution time (how much time is needed to run the test).<br>\n",
    "<br>\n",
    "For a given test t,<br>\n",
    "the function t.time returns the execution time for the unit test in seconds<br>\n",
    "the function t.coverage returns a set of source code lines that are executing when running the test<br>\n",
    "For example, our application  has 3 tests t1, t2 and t3 with the following attributes:<br>\n",
    "<br>\n",
    "t1.time= 2 , t1.coverage={1,2,5,6,7}<br>\n",
    "<br>\n",
    "t2.time= 4 , t2.coverage={1,3,10,11,12}<br>\n",
    "<br>\n",
    "t3.time = 3, t3.coverage= {1,3,5 }<br>\n",
    "<br>\n",
    "If we execute tests t1 and t3 then the total execution time will be 2+3 = 5 and the total code coverage<br>\n",
    "will be {1,2,5,6,7} U {1,3,5 } = {1,2,3,5,6,7}, with 6 lines of code covered by the tests.<br>\n",
    "<br>\n",
    "If we execute tests t1, t2 and t3 then the total execution time will be 2+4+3=  9  and the total code coverage<br>\n",
    "will be {1,2,5,6,7} U {1,3,10,11,12} U {1,3,5 } = {1,2,3,5,6,7,10,11,12},  with 9 lines of code covered by the tests.<br>\n",
    "<br>\n",
    "A test selection algorithm in an optimization algorithm that given a set of tests T, selects a subset of T such that:<br>\n",
    "<br>\n",
    "1) the total execution time is smaller than a given value, representing our maximum testing time<br>\n",
    "2) maximizes the total code coverage<br>\n",
    "<br>\n",
    "Your task is to implement an *objective function* in Python for this test selection algorithm. This functions returns<br>\n",
    "- the code coverage for the test suite, if it can be executed within the maximum allowed time<br>\n",
    "- 0, otherwise"
   ]
  },
  {
   "cell_type": "markdown",
   "metadata": {
    "deletable": false,
    "editable": false,
    "nbgrader": {
     "cell_type": "markdown",
     "checksum": "519696fdb87b284a7ced3857317b7058",
     "grade": false,
     "grade_id": "cell-cee4b8237a10cc34",
     "locked": true,
     "schema_version": 3,
     "solution": false,
     "task": false
    }
   },
   "source": [
    "This class represents a single test"
   ]
  },
  {
   "cell_type": "code",
   "metadata": {
    "deletable": false,
    "editable": false,
    "nbgrader": {
     "cell_type": "code",
     "checksum": "04747c56e174b187fab994385b4825da",
     "grade": false,
     "grade_id": "cell-b6a26e8f0fc0a1d2",
     "locked": true,
     "schema_version": 3,
     "solution": false,
     "task": false
    },
    "ExecuteTime": {
     "end_time": "2024-06-14T14:06:47.097718Z",
     "start_time": "2024-06-14T14:06:47.093177Z"
    }
   },
   "source": [
    "class Test:\n",
    "    def __init__(self, time, coverage):\n",
    "        self.time = time\n",
    "        self.coverage = coverage"
   ],
   "outputs": [],
   "execution_count": 16
  },
  {
   "cell_type": "markdown",
   "metadata": {
    "deletable": false,
    "editable": false,
    "nbgrader": {
     "cell_type": "markdown",
     "checksum": "4aed74842aa3728399c97ada7d2fc26f",
     "grade": false,
     "grade_id": "cell-783115074685e59b",
     "locked": true,
     "schema_version": 3,
     "solution": false,
     "task": false
    }
   },
   "source": [
    "Your task is to implement an *objective function* in Python for this problem. Given a set of tests and the maximum allowed time, this functions returns: <br>\n",
    "- the code coverage for the test suite, if it can be executed within the maximum allowed time<br>\n",
    "- 0, otherwise\n"
   ]
  },
  {
   "cell_type": "code",
   "metadata": {
    "deletable": false,
    "nbgrader": {
     "cell_type": "code",
     "checksum": "419d236ddb88b1aacd524d6195b77066",
     "grade": false,
     "grade_id": "cell-f7773e0b13144228",
     "locked": false,
     "schema_version": 3,
     "solution": true,
     "task": false
    },
    "ExecuteTime": {
     "end_time": "2024-06-14T14:06:47.104572Z",
     "start_time": "2024-06-14T14:06:47.099929Z"
    }
   },
   "source": [
    "def test_suite_coverage(T: set[Test], maximum_time: int) -> int:\n",
    "    # YOUR CODE HERE\n",
    "    total_coverage = set()\n",
    "    total_time = 0\n",
    "    # skip the whole coverage update part if the time needed in total exedes the maximun_time\n",
    "    for test in T:\n",
    "        total_time += test.time\n",
    "    if total_time <= maximum_time:\n",
    "        for test in T:\n",
    "            total_coverage.update(test.coverage)\n",
    "    score = len(total_coverage)    \n",
    "    return score"
   ],
   "outputs": [],
   "execution_count": 17
  },
  {
   "cell_type": "markdown",
   "metadata": {
    "deletable": false,
    "editable": false,
    "nbgrader": {
     "cell_type": "markdown",
     "checksum": "4b5b993e6417c300d031474bfdc58918",
     "grade": false,
     "grade_id": "cell-d93fd33286d66cd5",
     "locked": true,
     "schema_version": 3,
     "solution": false,
     "task": false
    }
   },
   "source": [
    "#### Check the solution\n",
    "Create a test suite for the example"
   ]
  },
  {
   "cell_type": "code",
   "metadata": {
    "deletable": false,
    "editable": false,
    "nbgrader": {
     "cell_type": "code",
     "checksum": "de3642ee98f5a870c2f98a6da29ede00",
     "grade": false,
     "grade_id": "cell-63cba7931c26100e",
     "locked": true,
     "schema_version": 3,
     "solution": false,
     "task": false
    },
    "ExecuteTime": {
     "end_time": "2024-06-14T14:06:47.111535Z",
     "start_time": "2024-06-14T14:06:47.106425Z"
    }
   },
   "source": [
    "t1= Test(time=2, coverage = {1, 2, 5, 6, 7} )\n",
    "t2= Test(time=4, coverage = {1, 3, 10, 11, 12} )\n",
    "t3= Test(time=3, coverage = {1, 3, 5} )"
   ],
   "outputs": [],
   "execution_count": 18
  },
  {
   "cell_type": "code",
   "metadata": {
    "deletable": false,
    "editable": false,
    "nbgrader": {
     "cell_type": "code",
     "checksum": "59f5090350573fd2050f7ade17251fb7",
     "grade": true,
     "grade_id": "cell-5073db3eb213fb77",
     "locked": true,
     "points": 2,
     "schema_version": 3,
     "solution": false,
     "task": false
    },
    "ExecuteTime": {
     "end_time": "2024-06-14T14:06:47.118729Z",
     "start_time": "2024-06-14T14:06:47.113449Z"
    }
   },
   "source": [
    "check(test_suite_coverage( {t1,t3}, 100) == 6, \"6 lines of code covered by t1 and t3\")\n",
    "check(test_suite_coverage( {t1,t3}, 5) == 6, \"6 lines of code covered by t1 and t3, 5 time units\")\n",
    "check(test_suite_coverage( {t1,t2,t3}, 100) == 9, \"9 lines of code covered by t1, t2 and t3\")"
   ],
   "outputs": [
    {
     "data": {
      "text/plain": [
       "'Passed'"
      ]
     },
     "execution_count": 19,
     "metadata": {},
     "output_type": "execute_result"
    }
   ],
   "execution_count": 19
  },
  {
   "cell_type": "code",
   "metadata": {
    "deletable": false,
    "editable": false,
    "nbgrader": {
     "cell_type": "code",
     "checksum": "fd843bbdcd76de7477f1315e0c26e138",
     "grade": true,
     "grade_id": "cell-c8da57f2353e3d53",
     "locked": true,
     "points": 1,
     "schema_version": 3,
     "solution": false,
     "task": false
    },
    "ExecuteTime": {
     "end_time": "2024-06-14T14:06:47.125432Z",
     "start_time": "2024-06-14T14:06:47.120318Z"
    }
   },
   "source": [
    "check(test_suite_coverage({t1,t2,t3}, 2) == 0, \"Test suite is too long\")\n",
    "check(test_suite_coverage({}, 100) == 0, \"Empty test suite\")"
   ],
   "outputs": [
    {
     "data": {
      "text/plain": [
       "'Passed'"
      ]
     },
     "execution_count": 20,
     "metadata": {},
     "output_type": "execute_result"
    }
   ],
   "execution_count": 20
  }
 ],
 "metadata": {
  "kernelspec": {
   "display_name": "Python 3 (ipykernel)",
   "language": "python",
   "name": "python3"
  },
  "language_info": {
   "codemirror_mode": {
    "name": "ipython",
    "version": 3
   },
   "file_extension": ".py",
   "mimetype": "text/x-python",
   "name": "python",
   "nbconvert_exporter": "python",
   "pygments_lexer": "ipython3",
   "version": "3.10.6"
  }
 },
 "nbformat": 4,
 "nbformat_minor": 4
}
