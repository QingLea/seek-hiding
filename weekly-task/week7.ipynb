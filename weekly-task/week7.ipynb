{
 "cells": [
  {
   "cell_type": "markdown",
   "metadata": {
    "deletable": false,
    "editable": false,
    "nbgrader": {
     "cell_type": "markdown",
     "checksum": "27ad9bffc8683bd3bec0d0809521e0ba",
     "grade": false,
     "grade_id": "cell-5761e8fe038f1ce1",
     "locked": true,
     "schema_version": 3,
     "solution": false,
     "task": false
    }
   },
   "source": [
    "---"
   ]
  },
  {
   "cell_type": "markdown",
   "metadata": {
    "deletable": false,
    "editable": false,
    "nbgrader": {
     "cell_type": "markdown",
     "checksum": "8b35c13ede99be3e38c6cde16200d510",
     "grade": false,
     "grade_id": "cell-2029e20d248073dd",
     "locked": true,
     "schema_version": 3,
     "solution": false,
     "task": false
    }
   },
   "source": [
    "# IT00CJ42: Search and Optimization Algorithms"
   ]
  },
  {
   "cell_type": "markdown",
   "metadata": {
    "deletable": false,
    "editable": false,
    "nbgrader": {
     "cell_type": "markdown",
     "checksum": "f873368fab1421a561427722d12bbb1e",
     "grade": false,
     "grade_id": "cell-66d480b3cea6503e",
     "locked": true,
     "schema_version": 3,
     "solution": false,
     "task": false
    }
   },
   "source": [
    "**Restart the kernel and run all cells** before you turn this problem in, make sure everything runs as expected.\n",
    "\n",
    "Make sure you fill in any place that says `YOUR CODE HERE`."
   ]
  },
  {
   "cell_type": "markdown",
   "metadata": {
    "deletable": false,
    "editable": false,
    "nbgrader": {
     "cell_type": "markdown",
     "checksum": "745172cac887adbdc30b82cf6668bc67",
     "grade": false,
     "grade_id": "cell-20d2680bb31d7bf4",
     "locked": true,
     "schema_version": 3,
     "solution": false,
     "task": false
    }
   },
   "source": [
    "---"
   ]
  },
  {
   "cell_type": "markdown",
   "metadata": {
    "deletable": false,
    "editable": false,
    "nbgrader": {
     "cell_type": "markdown",
     "checksum": "edc39bba2f785e02645eec00ebef589f",
     "grade": false,
     "grade_id": "cell-0264ebd3683badbe",
     "locked": true,
     "schema_version": 3,
     "solution": false,
     "task": false
    }
   },
   "source": [
    "## Week 7: Genetic Algorithm\n",
    "The task for this week is to implement a genetic algorithm for the problem of test selection (See task week 2). The goal is to design a test selection algorithm that given a set of tests T, selects a subset of T such that:\n",
    "\n",
    "* the total execution time is smaller than a given value, representing our maximum testing time\n",
    "* maximizes the total code coverage\n",
    "\n",
    "First examine the Python code in the file ga.py. It already implements the main loop of the genetic algorithm as well as a Python class to represent our test database and a fitness function. This code is given as a reference. You can use as it is our change it if helps you.\n",
    "\n",
    "Your tasks are:\n",
    "\n",
    "1. Implement the selection operator.  (1p)\n",
    "\n",
    "2. Implement the crossover operator.  (2p)\n",
    "\n",
    "3. Implement the mutation operator.  (1p)\n",
    "\n",
    "4. Solve the problems in the files problem1.txt, problem2.txt and problem3.txt and report the maximum fitness achieved and the number of generators to find it (1p)"
   ]
  },
  {
   "cell_type": "markdown",
   "metadata": {
    "deletable": false,
    "editable": false,
    "nbgrader": {
     "cell_type": "markdown",
     "checksum": "c2c7b61f41bceafbc93b81bd7954661c",
     "grade": false,
     "grade_id": "cell-ef5df01782923fe4",
     "locked": true,
     "schema_version": 3,
     "solution": false,
     "task": false
    }
   },
   "source": [
    "### Imports"
   ]
  },
  {
   "cell_type": "code",
   "metadata": {
    "deletable": false,
    "editable": false,
    "nbgrader": {
     "cell_type": "code",
     "checksum": "98e7f76e556adb5e604277c7a74195a2",
     "grade": false,
     "grade_id": "cell-d93ee06b62325c0c",
     "locked": true,
     "schema_version": 3,
     "solution": false,
     "task": false
    },
    "ExecuteTime": {
     "end_time": "2024-06-14T13:59:49.266268Z",
     "start_time": "2024-06-14T13:59:49.264044Z"
    }
   },
   "source": [
    "import random\n",
    "\n",
    "import numpy as np\n",
    "from numpy.random import rand, randint"
   ],
   "outputs": [],
   "execution_count": 10
  },
  {
   "cell_type": "markdown",
   "metadata": {
    "deletable": false,
    "editable": false,
    "nbgrader": {
     "cell_type": "markdown",
     "checksum": "b71db7ca0445c6312832761290d1294c",
     "grade": false,
     "grade_id": "cell-8eccca29c2fc9709",
     "locked": true,
     "schema_version": 3,
     "solution": false,
     "task": false
    }
   },
   "source": [
    "### Solutions check\n",
    "We use the function **check** to implement tests for your solution"
   ]
  },
  {
   "cell_type": "code",
   "metadata": {
    "deletable": false,
    "editable": false,
    "nbgrader": {
     "cell_type": "code",
     "checksum": "e937a6a47b65ed82646c7203fa62b5c3",
     "grade": false,
     "grade_id": "cell-e52609a6af1bc36b",
     "locked": true,
     "schema_version": 3,
     "solution": false,
     "task": false
    },
    "ExecuteTime": {
     "end_time": "2024-06-14T13:59:49.348040Z",
     "start_time": "2024-06-14T13:59:49.345059Z"
    }
   },
   "source": [
    "def check(expression, message=\"\"):\n",
    "    if not expression:\n",
    "        raise AssertionError(message)\n",
    "    return \"Passed\""
   ],
   "outputs": [],
   "execution_count": 11
  },
  {
   "cell_type": "markdown",
   "metadata": {
    "deletable": false,
    "editable": false,
    "nbgrader": {
     "cell_type": "markdown",
     "checksum": "7a36ef948704d235a9b7ea4a4e847cd3",
     "grade": false,
     "grade_id": "cell-375066bc2e85c766",
     "locked": true,
     "schema_version": 3,
     "solution": false,
     "task": false
    }
   },
   "source": [
    "### Test database\n",
    "This is already implemented"
   ]
  },
  {
   "cell_type": "code",
   "metadata": {
    "deletable": false,
    "editable": false,
    "nbgrader": {
     "cell_type": "code",
     "checksum": "ed8e4d48f85873a1e8b37de16404a535",
     "grade": false,
     "grade_id": "cell-f494447430728cbd",
     "locked": true,
     "schema_version": 3,
     "solution": false,
     "task": false
    },
    "ExecuteTime": {
     "end_time": "2024-06-14T13:59:49.376303Z",
     "start_time": "2024-06-14T13:59:49.367062Z"
    }
   },
   "source": [
    "class TestDatabase:\n",
    "    # This class represents our test database\n",
    "    # It is already implemented\n",
    "    def __init__(self):\n",
    "        self.coverage = []\n",
    "        self.time = []\n",
    "\n",
    "    def get_time(self, i):\n",
    "        return self.time[i]\n",
    "\n",
    "    def get_coverage(self, i):\n",
    "        return self.coverage[i]\n",
    "\n",
    "    def get_number_of_tests(self):\n",
    "        return len(self.time)\n",
    "\n",
    "    def init_random(self, n_tests, max_time, max_code, p=0.05):\n",
    "        # initialize a test database randomly\n",
    "        self.coverage = []\n",
    "        self.time = []\n",
    "        for i in range(n_tests):\n",
    "            t_time = randint(1, max_time)\n",
    "            t_coverage = []\n",
    "            for i in range(1, max_code + 1):\n",
    "                if rand() < p:\n",
    "                    t_coverage.append(i)\n",
    "            self.time.append(t_time)\n",
    "            self.coverage.append(t_coverage)\n",
    "\n",
    "    def load_from_file(self, fn):\n",
    "        # load test database from file with name fn\n",
    "        # file format:\n",
    "        #  line i represents test i as comma separated value\n",
    "        #   the first value is the time to execute the test\n",
    "        #   the other values are the lines covered by the test\n",
    "        #  Example\n",
    "        #   5, 1, 5, 7   -> A test that covers lines 1,5,7 and takes 5 seconds to run\n",
    "        self.coverage = []\n",
    "        self.time = []\n",
    "        with open(fn, \"rt\") as fd:\n",
    "            for line in fd.readlines():\n",
    "                words = line.split(\",\")\n",
    "                self.time.append(float(words[0]))\n",
    "                self.coverage.append(list(map(lambda x: int(x), words[1:])))\n",
    "\n",
    "    def write_to_file(self, fn):\n",
    "        # write the test database to a file with name fn\n",
    "        with open(fn, \"wt\") as fd:\n",
    "            for time, coverage in zip(self.time, self.coverage):\n",
    "                fd.write(str(time))\n",
    "                for i in coverage:\n",
    "                    fd.write(\", \" + str(i))\n",
    "                fd.write(\"\\n\")"
   ],
   "outputs": [],
   "execution_count": 12
  },
  {
   "cell_type": "markdown",
   "metadata": {
    "deletable": false,
    "editable": false,
    "nbgrader": {
     "cell_type": "markdown",
     "checksum": "cec8a655e2c21ffeae9ea5fc567d2ff1",
     "grade": false,
     "grade_id": "cell-21aa432bdc42cd5e",
     "locked": true,
     "schema_version": 3,
     "solution": false,
     "task": false
    }
   },
   "source": [
    "### Fitness Function\n",
    "This is already implemented"
   ]
  },
  {
   "cell_type": "code",
   "metadata": {
    "deletable": false,
    "editable": false,
    "nbgrader": {
     "cell_type": "code",
     "checksum": "81d9a8cc6dd1273666cf7ab3c54b69af",
     "grade": false,
     "grade_id": "cell-8d72706a8c9c4413",
     "locked": true,
     "schema_version": 3,
     "solution": false,
     "task": false
    },
    "ExecuteTime": {
     "end_time": "2024-06-14T13:59:49.411724Z",
     "start_time": "2024-06-14T13:59:49.408410Z"
    }
   },
   "source": [
    "def fitness(x, db, max_time):\n",
    "    coverage = set()\n",
    "    total_time = 0\n",
    "    for i in range(len(x)):\n",
    "        if x[i] == 1:\n",
    "            coverage = coverage.union(db.get_coverage(i))\n",
    "            total_time = total_time + db.get_time(i)\n",
    "    if total_time <= max_time:\n",
    "        return len(coverage)\n",
    "    else:\n",
    "        return 0"
   ],
   "outputs": [],
   "execution_count": 13
  },
  {
   "cell_type": "markdown",
   "metadata": {
    "deletable": false,
    "editable": false,
    "nbgrader": {
     "cell_type": "markdown",
     "checksum": "513c0d463670b64c6e54e9f23f529f3d",
     "grade": false,
     "grade_id": "cell-3cce72d1b5811672",
     "locked": true,
     "schema_version": 3,
     "solution": false,
     "task": false
    }
   },
   "source": [
    "### Genetic algorithm\n",
    "This is already implemented (can be changed)"
   ]
  },
  {
   "cell_type": "code",
   "metadata": {
    "ExecuteTime": {
     "end_time": "2024-06-14T13:59:49.440259Z",
     "start_time": "2024-06-14T13:59:49.434440Z"
    }
   },
   "source": [
    "def genetic_algorithm(db, maxtime, fitness, n_bits, n_iter, n_pop, r_cross, r_mut):\n",
    "    # initial population of random bitstring\n",
    "    population = [randint(0, 2, n_bits).tolist() for _ in range(n_pop)]\n",
    "    # keep track of best solution\n",
    "    best, best_eval = 0, fitness(population[0], db, maxtime)\n",
    "    # enumerate generations\n",
    "    for gen in range(n_iter):\n",
    "        # evaluate all candidates in the population\n",
    "        scores = [fitness(c, db, maxtime) for c in population]\n",
    "        # check for new best solution\n",
    "        for i in range(n_pop):\n",
    "            if scores[i] > best_eval:\n",
    "                best, best_eval = population[i], scores[i]\n",
    "        # select parents\n",
    "        selected = [selection(population, scores) for _ in range(n_pop)]  # selection\n",
    "\n",
    "        # create the next generation\n",
    "        children = list()\n",
    "        for i in range(0, n_pop, 2):\n",
    "            # get selected parents in pairs\n",
    "            p1, p2 = selected[i], selected[i + 1]\n",
    "\n",
    "            crossover_ = crossover(p1, p2, r_cross)\n",
    "\n",
    "            # crossover and mutation\n",
    "            for c in crossover_:\n",
    "                # mutation\n",
    "                c = mutation(c, r_mut)\n",
    "\n",
    "                # store for next generation\n",
    "                children.append(c)\n",
    "        # replace population\n",
    "        population = children\n",
    "    return [best, best_eval]"
   ],
   "outputs": [],
   "execution_count": 14
  },
  {
   "cell_type": "markdown",
   "metadata": {
    "deletable": false,
    "editable": false,
    "nbgrader": {
     "cell_type": "markdown",
     "checksum": "5c046b55e923fb70ccc4908e568c62c7",
     "grade": false,
     "grade_id": "cell-149370e025a57b58",
     "locked": true,
     "schema_version": 3,
     "solution": false,
     "task": false
    }
   },
   "source": [
    "### Task 1: Selection Method"
   ]
  },
  {
   "cell_type": "code",
   "metadata": {
    "deletable": false,
    "nbgrader": {
     "cell_type": "code",
     "checksum": "05999cc5db2b9acc2b0b2f7a522e3f99",
     "grade": false,
     "grade_id": "cell-6b21c3c8ce54f7ea",
     "locked": false,
     "schema_version": 3,
     "solution": true,
     "task": false
    },
    "ExecuteTime": {
     "end_time": "2024-06-14T13:59:49.484403Z",
     "start_time": "2024-06-14T13:59:49.479370Z"
    }
   },
   "source": [
    "from random import randrange\n",
    "\n",
    "def selection(population, scores):\n",
    "    # Tournament size can be adjusted. \n",
    "    tournament_size = 3\n",
    "    # Randomly select individuals for the tournament\n",
    "    tournament_indices = [randrange(len(population)) for _ in range(tournament_size)]\n",
    "    # Select the index of the individual with the highest fitness in the tournament\n",
    "    best_index = tournament_indices[0]\n",
    "    for index in tournament_indices:\n",
    "        if scores[index] > scores[best_index]:\n",
    "            best_index = index\n",
    "    # Return the winning individual from the population\n",
    "    return population[best_index]\n"
   ],
   "outputs": [],
   "execution_count": 15
  },
  {
   "cell_type": "markdown",
   "metadata": {
    "deletable": false,
    "editable": false,
    "nbgrader": {
     "cell_type": "markdown",
     "checksum": "5b90e2c4fecf0b87bf8e0f63a27eac4e",
     "grade": false,
     "grade_id": "cell-c471902d637df635",
     "locked": true,
     "schema_version": 3,
     "solution": false,
     "task": false
    }
   },
   "source": [
    "### Task 2: Crossover Method"
   ]
  },
  {
   "cell_type": "code",
   "metadata": {
    "deletable": false,
    "nbgrader": {
     "cell_type": "code",
     "checksum": "fbac18530c1f76577d811b33a786dc2d",
     "grade": false,
     "grade_id": "cell-02deead9800f94de",
     "locked": false,
     "schema_version": 3,
     "solution": true,
     "task": false
    },
    "ExecuteTime": {
     "end_time": "2024-06-14T13:59:49.528993Z",
     "start_time": "2024-06-14T13:59:49.524841Z"
    }
   },
   "source": [
    "from random import randrange, random\n",
    "\n",
    "def crossover(p1, p2, r_cross):\n",
    "    # Children are copies of parents by default\n",
    "    c1, c2 = p1.copy(), p2.copy()\n",
    "    # Check if crossover should occur\n",
    "    if random() < r_cross:\n",
    "        # Select crossover point that is not on the end of the string\n",
    "        point = randrange(1, len(p1)-1)\n",
    "        # Perform the crossover\n",
    "        c1 = p1[:point] + p2[point:]\n",
    "        c2 = p2[:point] + p1[point:]\n",
    "    return [c1, c2]\n"
   ],
   "outputs": [],
   "execution_count": 16
  },
  {
   "cell_type": "markdown",
   "metadata": {
    "deletable": false,
    "editable": false,
    "nbgrader": {
     "cell_type": "markdown",
     "checksum": "f208de05a7f788377f5389401db6a317",
     "grade": false,
     "grade_id": "cell-4f9e94a783c83efc",
     "locked": true,
     "schema_version": 3,
     "solution": false,
     "task": false
    }
   },
   "source": [
    "### Task 3: Mutation Operator"
   ]
  },
  {
   "cell_type": "code",
   "metadata": {
    "deletable": false,
    "nbgrader": {
     "cell_type": "code",
     "checksum": "c2f4c586a1e9906ac51d2018ffac3a93",
     "grade": false,
     "grade_id": "cell-14bb4c792dbf9dc2",
     "locked": false,
     "schema_version": 3,
     "solution": true,
     "task": false
    },
    "ExecuteTime": {
     "end_time": "2024-06-14T13:59:49.568675Z",
     "start_time": "2024-06-14T13:59:49.565108Z"
    }
   },
   "source": [
    "from random import random\n",
    "\n",
    "def mutation(bitstring, r_mut):\n",
    "    for i in range(len(bitstring)):\n",
    "        # Check if this bit should be mutated\n",
    "        if random() < r_mut:\n",
    "            # Flip the bit\n",
    "            bitstring[i] = 1 - bitstring[i]\n",
    "    return bitstring\n"
   ],
   "outputs": [],
   "execution_count": 17
  },
  {
   "cell_type": "markdown",
   "metadata": {
    "deletable": false,
    "editable": false,
    "nbgrader": {
     "cell_type": "markdown",
     "checksum": "b595a4d083943b7377fd965ab572e628",
     "grade": false,
     "grade_id": "cell-a552d96664d250dd",
     "locked": true,
     "schema_version": 3,
     "solution": false,
     "task": false
    }
   },
   "source": [
    "### Task 4: Solve problems 1-3"
   ]
  },
  {
   "cell_type": "markdown",
   "metadata": {
    "deletable": false,
    "editable": false,
    "nbgrader": {
     "cell_type": "markdown",
     "checksum": "88766f7541ee5c0cbe746ebcd87af04b",
     "grade": false,
     "grade_id": "cell-690a91cf670e511e",
     "locked": true,
     "schema_version": 3,
     "solution": false,
     "task": false
    }
   },
   "source": [
    "#### Initialize the problems"
   ]
  },
  {
   "cell_type": "code",
   "metadata": {
    "deletable": false,
    "editable": false,
    "nbgrader": {
     "cell_type": "code",
     "checksum": "837ba467a65b4c7e4f995777160e5804",
     "grade": false,
     "grade_id": "cell-c91d6cda99a328a3",
     "locked": true,
     "schema_version": 3,
     "solution": false,
     "task": false
    },
    "ExecuteTime": {
     "end_time": "2024-06-14T13:59:49.581733Z",
     "start_time": "2024-06-14T13:59:49.576202Z"
    }
   },
   "source": [
    "p1 = TestDatabase()\n",
    "p1.load_from_file(\"../res/data/problem1.txt\")\n",
    "\n",
    "p2 = TestDatabase()\n",
    "p2.load_from_file(\"../res/data/problem2.txt\")\n",
    "\n",
    "p3 = TestDatabase()\n",
    "p3.load_from_file(\"../res/data/problem3.txt\")\n",
    "\n",
    "max_time = 1000"
   ],
   "outputs": [],
   "execution_count": 18
  },
  {
   "cell_type": "markdown",
   "metadata": {
    "deletable": false,
    "editable": false,
    "nbgrader": {
     "cell_type": "markdown",
     "checksum": "51fe066b6221713a82d67deb521cf0ee",
     "grade": false,
     "grade_id": "cell-74091a933c907025",
     "locked": true,
     "schema_version": 3,
     "solution": false,
     "task": false
    }
   },
   "source": [
    "#### Problem 1\n",
    "##### Initialize the parameters and solve the problem with the genetic algorithm"
   ]
  },
  {
   "cell_type": "code",
   "metadata": {
    "ExecuteTime": {
     "end_time": "2024-06-14T13:59:52.222772Z",
     "start_time": "2024-06-14T13:59:49.588958Z"
    }
   },
   "source": [
    "n_iter = 150\n",
    "# bits: one bit per each test that may be executed\n",
    "n_bits = p1.get_number_of_tests()\n",
    "# define the population size, you can change this\n",
    "n_pop = 120\n",
    "# crossover rate, you can change this\n",
    "r_cross = 0.9\n",
    "# mutation rate, you can change this\n",
    "r_mut = 1.0 / float(n_bits)\n",
    "\n",
    "best_p1, score_p1 = genetic_algorithm(\n",
    "    p1, max_time, fitness, n_bits, n_iter, n_pop, r_cross, r_mut\n",
    ")\n",
    "print(\"f(%s) = %f\" % (best_p1, score_p1))"
   ],
   "outputs": [
    {
     "name": "stdout",
     "output_type": "stream",
     "text": [
      "f([0, 1, 0, 0, 1, 1, 1, 0, 1, 1, 1, 1, 1, 0, 0, 1, 1, 1, 0, 1, 1, 0, 1, 1, 0, 1, 1, 1, 1, 1, 1, 1, 0, 1, 0, 1, 0, 1, 1, 0, 1, 0, 1, 1, 0, 1, 0, 1, 1, 1]) = 866.000000\n"
     ]
    }
   ],
   "execution_count": 19
  },
  {
   "cell_type": "markdown",
   "metadata": {
    "deletable": false,
    "editable": false,
    "nbgrader": {
     "cell_type": "markdown",
     "checksum": "2bf6c569edc19f2847facc9513d06f9b",
     "grade": false,
     "grade_id": "cell-89513a3188166181",
     "locked": true,
     "schema_version": 3,
     "solution": false,
     "task": false
    }
   },
   "source": [
    "#### Problem 2\n",
    "##### Initialize the parameters and solve the problem with the genetic algorithm"
   ]
  },
  {
   "cell_type": "code",
   "metadata": {
    "ExecuteTime": {
     "end_time": "2024-06-14T13:59:53.869733Z",
     "start_time": "2024-06-14T13:59:52.223961Z"
    }
   },
   "source": [
    "n_iter = 130\n",
    "# bits: one bit per each test that may be executed\n",
    "n_bits = p2.get_number_of_tests()\n",
    "# define the population size, you can change this\n",
    "n_pop = 110\n",
    "# crossover rate, you can change this\n",
    "r_cross = 0.9\n",
    "# mutation rate, you can change this\n",
    "r_mut = 1.0 / float(n_bits)\n",
    "\n",
    "best_p2, score_p2 = genetic_algorithm(\n",
    "    p2, max_time, fitness, n_bits, n_iter, n_pop, r_cross, r_mut\n",
    ")\n",
    "print(\"f(%s) = %f\" % (best_p2, score_p2))"
   ],
   "outputs": [
    {
     "name": "stdout",
     "output_type": "stream",
     "text": [
      "f([1, 1, 0, 0, 1, 1, 1, 1, 1, 1, 1, 1, 0, 0, 1, 1, 1, 1, 0, 0, 0, 0, 0, 1, 0, 1, 0, 0, 1, 1, 1, 0, 0, 1, 1, 1, 1, 0, 0, 1, 0, 1, 0, 0, 0, 0, 1, 0, 1, 0]) = 767.000000\n"
     ]
    }
   ],
   "execution_count": 20
  },
  {
   "cell_type": "markdown",
   "metadata": {
    "deletable": false,
    "editable": false,
    "nbgrader": {
     "cell_type": "markdown",
     "checksum": "d66c6390d2eff733c5f0d399a5b9b80b",
     "grade": false,
     "grade_id": "cell-6672f5027ec327d3",
     "locked": true,
     "schema_version": 3,
     "solution": false,
     "task": false
    }
   },
   "source": [
    "#### Problem 3\n",
    "##### Initialize the parameters and solve the problem with the genetic algorithm"
   ]
  },
  {
   "cell_type": "code",
   "metadata": {
    "ExecuteTime": {
     "end_time": "2024-06-14T13:59:56.804649Z",
     "start_time": "2024-06-14T13:59:53.870526Z"
    }
   },
   "source": [
    "n_iter = 200\n",
    "# bits: one bit per each test that may be executed\n",
    "n_bits = p3.get_number_of_tests()\n",
    "# define the population size, you can change this\n",
    "n_pop = 120\n",
    "# crossover rate, you can change this\n",
    "r_cross = 0.8\n",
    "# mutation rate, you can change this\n",
    "r_mut = 1.0 / float(n_bits)\n",
    "\n",
    "best_p3, score_p3 = genetic_algorithm(\n",
    "    p3, max_time, fitness, n_bits, n_iter, n_pop, r_cross, r_mut\n",
    ")\n",
    "print(\"f(%s) = %f\" % (best_p3, score_p3))"
   ],
   "outputs": [
    {
     "name": "stdout",
     "output_type": "stream",
     "text": [
      "f([1, 1, 0, 0, 1, 0, 0, 0, 0, 1, 0, 0, 1, 1, 1, 1, 1, 0, 0, 0, 1, 0, 1, 0, 0, 1, 1, 1, 1, 1, 0, 0, 1, 1, 1, 1, 1, 0, 0, 0, 1, 1, 0, 1, 0, 1, 1, 1, 0, 1]) = 804.000000\n"
     ]
    }
   ],
   "execution_count": 21
  },
  {
   "cell_type": "markdown",
   "metadata": {
    "deletable": false,
    "editable": false,
    "nbgrader": {
     "cell_type": "markdown",
     "checksum": "e76d5960b6d2d699cd810717efebfa30",
     "grade": false,
     "grade_id": "cell-a4a21972269d19b3",
     "locked": true,
     "schema_version": 3,
     "solution": false,
     "task": false
    }
   },
   "source": [
    "#### Check the results"
   ]
  },
  {
   "cell_type": "code",
   "metadata": {
    "deletable": false,
    "editable": false,
    "nbgrader": {
     "cell_type": "code",
     "checksum": "56b795c3e44e5677c39dff4e8ca43b68",
     "grade": true,
     "grade_id": "cell-80c4a4cad597702d",
     "locked": true,
     "points": 1,
     "schema_version": 3,
     "solution": false,
     "task": false
    },
    "ExecuteTime": {
     "end_time": "2024-06-14T13:59:56.809993Z",
     "start_time": "2024-06-14T13:59:56.805934Z"
    }
   },
   "source": [
    "check(score_p1 >= 800, \"Try to get higher scores, it is possible! (try tweaking the parameters or try a different selection method, crossover method or mutation operator)\")"
   ],
   "outputs": [
    {
     "data": {
      "text/plain": [
       "'Passed'"
      ]
     },
     "execution_count": 22,
     "metadata": {},
     "output_type": "execute_result"
    }
   ],
   "execution_count": 22
  },
  {
   "cell_type": "code",
   "metadata": {
    "deletable": false,
    "editable": false,
    "nbgrader": {
     "cell_type": "code",
     "checksum": "0af70aef9b2f326a8e4530ca36abb82c",
     "grade": true,
     "grade_id": "cell-726b5efda49ebc2a",
     "locked": true,
     "points": 2,
     "schema_version": 3,
     "solution": false,
     "task": false
    },
    "ExecuteTime": {
     "end_time": "2024-06-14T13:59:56.813798Z",
     "start_time": "2024-06-14T13:59:56.810665Z"
    }
   },
   "source": [
    "check(score_p2 >= 700, \"Try to get higher scores, it is possible! (try tweaking the parameters or try a different selection method, crossover method or mutation operator)\")"
   ],
   "outputs": [
    {
     "data": {
      "text/plain": [
       "'Passed'"
      ]
     },
     "execution_count": 23,
     "metadata": {},
     "output_type": "execute_result"
    }
   ],
   "execution_count": 23
  },
  {
   "cell_type": "code",
   "metadata": {
    "deletable": false,
    "editable": false,
    "nbgrader": {
     "cell_type": "code",
     "checksum": "3c9d8ce6e997e102e6a0514dac7c563c",
     "grade": true,
     "grade_id": "cell-2a2d320e3b0c60aa",
     "locked": true,
     "points": 2,
     "schema_version": 3,
     "solution": false,
     "task": false
    },
    "ExecuteTime": {
     "end_time": "2024-06-14T13:59:56.817509Z",
     "start_time": "2024-06-14T13:59:56.814592Z"
    }
   },
   "source": [
    "check(score_p3 >= 700, \"Try to get higher scores, it is possible! (try tweaking the parameters or try a different selection method, crossover method or mutation operator)\")"
   ],
   "outputs": [
    {
     "data": {
      "text/plain": [
       "'Passed'"
      ]
     },
     "execution_count": 24,
     "metadata": {},
     "output_type": "execute_result"
    }
   ],
   "execution_count": 24
  }
 ],
 "metadata": {
  "kernelspec": {
   "display_name": "Python 3 (ipykernel)",
   "language": "python",
   "name": "python3"
  },
  "language_info": {
   "codemirror_mode": {
    "name": "ipython",
    "version": 3
   },
   "file_extension": ".py",
   "mimetype": "text/x-python",
   "name": "python",
   "nbconvert_exporter": "python",
   "pygments_lexer": "ipython3",
   "version": "3.9.6"
  }
 },
 "nbformat": 4,
 "nbformat_minor": 4
}
