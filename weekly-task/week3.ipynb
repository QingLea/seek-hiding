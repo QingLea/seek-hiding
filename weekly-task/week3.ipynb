{
 "cells": [
  {
   "cell_type": "markdown",
   "metadata": {
    "deletable": false,
    "editable": false,
    "nbgrader": {
     "cell_type": "markdown",
     "checksum": "27ad9bffc8683bd3bec0d0809521e0ba",
     "grade": false,
     "grade_id": "cell-5761e8fe038f1ce1",
     "locked": true,
     "schema_version": 3,
     "solution": false,
     "task": false
    }
   },
   "source": [
    "---"
   ]
  },
  {
   "cell_type": "markdown",
   "metadata": {
    "deletable": false,
    "editable": false,
    "nbgrader": {
     "cell_type": "markdown",
     "checksum": "8b35c13ede99be3e38c6cde16200d510",
     "grade": false,
     "grade_id": "cell-2029e20d248073dd",
     "locked": true,
     "schema_version": 3,
     "solution": false,
     "task": false
    }
   },
   "source": [
    "# IT00CJ42: Search and Optimization Algorithms"
   ]
  },
  {
   "cell_type": "markdown",
   "metadata": {
    "deletable": false,
    "editable": false,
    "nbgrader": {
     "cell_type": "markdown",
     "checksum": "f873368fab1421a561427722d12bbb1e",
     "grade": false,
     "grade_id": "cell-66d480b3cea6503e",
     "locked": true,
     "schema_version": 3,
     "solution": false,
     "task": false
    }
   },
   "source": [
    "**Restart the kernel and run all cells** before you turn this problem in, make sure everything runs as expected.\n",
    "\n",
    "Make sure you fill in any place that says `YOUR CODE HERE`."
   ]
  },
  {
   "cell_type": "markdown",
   "metadata": {
    "deletable": false,
    "editable": false,
    "nbgrader": {
     "cell_type": "markdown",
     "checksum": "745172cac887adbdc30b82cf6668bc67",
     "grade": false,
     "grade_id": "cell-20d2680bb31d7bf4",
     "locked": true,
     "schema_version": 3,
     "solution": false,
     "task": false
    }
   },
   "source": [
    "---"
   ]
  },
  {
   "cell_type": "markdown",
   "metadata": {
    "deletable": false,
    "editable": false,
    "nbgrader": {
     "cell_type": "markdown",
     "checksum": "cebc130fc64ac1eac85bb58436fb344d",
     "grade": false,
     "grade_id": "cell-ecb7c7fd3b0aea1f",
     "locked": true,
     "schema_version": 3,
     "solution": false,
     "task": false
    }
   },
   "source": [
    "## Week 3\n",
    "compare_two_algorithms is a python function to compare two optimization algorithms.<br>\n",
    "<br>\n",
    "First, it runs each algorithms ntrials number of times (100 by default), to obtain a sample of the minima returned<br>\n",
    "by each algorithm. Then it shows the mean of each sample and uses a Mann-Whitney U rank test to determine if the two<br>\n",
    "samples have the same underlying distribution.<br>\n",
    "<br>\n",
    "Your task is to implement the missing code"
   ]
  },
  {
   "cell_type": "markdown",
   "metadata": {
    "deletable": false,
    "editable": false,
    "nbgrader": {
     "cell_type": "markdown",
     "checksum": "2b5465fa3cb8f106ad35ef9f87df6821",
     "grade": false,
     "grade_id": "cell-9dedf85e2c269099",
     "locked": true,
     "schema_version": 3,
     "solution": false,
     "task": false
    }
   },
   "source": [
    "### Imports"
   ]
  },
  {
   "cell_type": "code",
   "metadata": {
    "deletable": false,
    "editable": false,
    "nbgrader": {
     "cell_type": "code",
     "checksum": "fa1cbc1e7293e9d148d1abf4fd886d7b",
     "grade": false,
     "grade_id": "cell-5018ad3b5465b8f4",
     "locked": true,
     "schema_version": 3,
     "solution": false,
     "task": false
    },
    "ExecuteTime": {
     "end_time": "2024-06-14T14:02:39.740375Z",
     "start_time": "2024-06-14T14:02:39.737619Z"
    }
   },
   "source": [
    "import random\n",
    "import numpy as np\n",
    "import matplotlib.pyplot as plt\n",
    "import scipy.stats\n",
    "import pandas as pd"
   ],
   "outputs": [],
   "execution_count": 13
  },
  {
   "cell_type": "markdown",
   "metadata": {
    "deletable": false,
    "editable": false,
    "nbgrader": {
     "cell_type": "markdown",
     "checksum": "fd3b0fc311142384fa943e10ff37a9b2",
     "grade": false,
     "grade_id": "cell-0d42f5c24293f9e6",
     "locked": true,
     "schema_version": 3,
     "solution": false,
     "task": false
    }
   },
   "source": [
    "### Solutions check\n",
    "We use the function **check** to implement tests for your solution"
   ]
  },
  {
   "cell_type": "code",
   "metadata": {
    "deletable": false,
    "editable": false,
    "nbgrader": {
     "cell_type": "code",
     "checksum": "3d4883996e028fc3b0ac95c679db114d",
     "grade": false,
     "grade_id": "cell-c2ca2bda4bfaef0d",
     "locked": true,
     "schema_version": 3,
     "solution": false,
     "task": false
    },
    "ExecuteTime": {
     "end_time": "2024-06-14T14:02:39.798817Z",
     "start_time": "2024-06-14T14:02:39.795197Z"
    }
   },
   "source": [
    "def check(expression, message=\"\"):\n",
    "    if not expression:\n",
    "        raise AssertionError(message)\n",
    "    return \"Passed\""
   ],
   "outputs": [],
   "execution_count": 14
  },
  {
   "cell_type": "markdown",
   "metadata": {
    "deletable": false,
    "editable": false,
    "nbgrader": {
     "cell_type": "markdown",
     "checksum": "75b3651b5c7e78ef23a3bc775a7542ab",
     "grade": false,
     "grade_id": "cell-1b01f72ea34c2ede",
     "locked": true,
     "schema_version": 3,
     "solution": false,
     "task": false
    }
   },
   "source": [
    "### Task 1: Plan the experiment\n",
    "Run the algorithm passed as first parameter N times"
   ]
  },
  {
   "cell_type": "code",
   "metadata": {
    "deletable": false,
    "nbgrader": {
     "cell_type": "code",
     "checksum": "ec12a34c52ecc07aaaa4577505b3a1d9",
     "grade": false,
     "grade_id": "cell-d440855147357971",
     "locked": false,
     "schema_version": 3,
     "solution": true,
     "task": false
    },
    "ExecuteTime": {
     "end_time": "2024-06-14T14:02:39.822304Z",
     "start_time": "2024-06-14T14:02:39.817340Z"
    }
   },
   "source": [
    "def run_experiment(algorithm, N, initial_seed=1):\n",
    "    data = []\n",
    "    for i in range(N):\n",
    "        # We set both the standard Python and Numpy random seeds\n",
    "        # since we do not know which RNG algorithm uses\n",
    "        random.seed(initial_seed+i)\n",
    "        np.random.seed(initial_seed+i)\n",
    "\n",
    "        # run algorithm and store the return value in a variable named result\n",
    "        # YOUR CODE HERE\n",
    "        result = algorithm()\n",
    "        \n",
    "        data.append(result)\n",
    "    return data"
   ],
   "outputs": [],
   "execution_count": 15
  },
  {
   "cell_type": "code",
   "metadata": {
    "collapsed": false,
    "deletable": false,
    "editable": false,
    "nbgrader": {
     "cell_type": "code",
     "checksum": "cfc5f3f55dd2f2363f022f2445df6152",
     "grade": true,
     "grade_id": "cell-d7a805cf0bec726c",
     "locked": true,
     "points": 1,
     "schema_version": 3,
     "solution": false,
     "task": false
    },
    "ExecuteTime": {
     "end_time": "2024-06-14T14:02:39.850007Z",
     "start_time": "2024-06-14T14:02:39.840026Z"
    }
   },
   "source": [
    "check(run_experiment( (lambda: 0 ),30) == [0]*30)"
   ],
   "outputs": [
    {
     "data": {
      "text/plain": [
       "'Passed'"
      ]
     },
     "execution_count": 16,
     "metadata": {},
     "output_type": "execute_result"
    }
   ],
   "execution_count": 16
  },
  {
   "cell_type": "markdown",
   "metadata": {
    "deletable": false,
    "editable": false,
    "nbgrader": {
     "cell_type": "markdown",
     "checksum": "72ee7f1cbb8f2071bbdfa7ec0471ef58",
     "grade": false,
     "grade_id": "cell-695babf39c3d0079",
     "locked": true,
     "schema_version": 3,
     "solution": false,
     "task": false
    }
   },
   "source": [
    "Calculate a Two-sided Mann–Whitney U test"
   ]
  },
  {
   "cell_type": "code",
   "metadata": {
    "deletable": false,
    "nbgrader": {
     "cell_type": "code",
     "checksum": "8134f7aff945174bc08b87d4292b5c8e",
     "grade": false,
     "grade_id": "cell-4b13ea0c48827d4a",
     "locked": false,
     "schema_version": 3,
     "solution": true,
     "task": false
    },
    "ExecuteTime": {
     "end_time": "2024-06-14T14:02:39.881137Z",
     "start_time": "2024-06-14T14:02:39.875290Z"
    }
   },
   "source": [
    "def statistical_test(name, vA, vB, significance=0.5):\n",
    "    # Perform a two-side Mann–Whitney U test for vA and vB, store result in a variable named p\n",
    "    # YOUR CODE HERE\n",
    "    u_statistic,p = scipy.stats.mannwhitneyu(vA,vB,alternative='two-sided')\n",
    "    print(\"The observed differences in the results of algorithm A and B for variable\", name, \"are \", end=\"\")\n",
    "    if p < significance:\n",
    "        print(\"statistically significant.\", end=\" \")\n",
    "    else:\n",
    "        print(\"not statistically significant.\", end=\" \")\n",
    "    print(\"Two-sided Mann–Whitney U test, significance level =\", significance, \", p-value = \", p)\n",
    "    return p"
   ],
   "outputs": [],
   "execution_count": 17
  },
  {
   "cell_type": "markdown",
   "metadata": {
    "deletable": false,
    "editable": false,
    "nbgrader": {
     "cell_type": "markdown",
     "checksum": "5aca2934d028455abcc6751245a5dfe7",
     "grade": false,
     "grade_id": "cell-e048f9abf5c0999d",
     "locked": true,
     "schema_version": 3,
     "solution": false,
     "task": false
    }
   },
   "source": [
    "Run the experiment"
   ]
  },
  {
   "cell_type": "code",
   "metadata": {
    "collapsed": false,
    "deletable": false,
    "editable": false,
    "nbgrader": {
     "cell_type": "code",
     "checksum": "46fbc7dc3585050122136b10a48216a0",
     "grade": true,
     "grade_id": "cell-30dc264ea703cced",
     "locked": true,
     "points": 1,
     "schema_version": 3,
     "solution": false,
     "task": false
    },
    "ExecuteTime": {
     "end_time": "2024-06-14T14:02:39.895765Z",
     "start_time": "2024-06-14T14:02:39.885533Z"
    }
   },
   "source": [
    "check(statistical_test(\"Different\",[1]*30,[0.5]*30) < 0.01)\n",
    "check(statistical_test(\"Different\",[1]*30,[1]*30) > 0.99)"
   ],
   "outputs": [
    {
     "name": "stdout",
     "output_type": "stream",
     "text": [
      "The observed differences in the results of algorithm A and B for variable Different are statistically significant. Two-sided Mann–Whitney U test, significance level = 0.5 , p-value =  1.685298194892643e-14\n",
      "The observed differences in the results of algorithm A and B for variable Different are not statistically significant. Two-sided Mann–Whitney U test, significance level = 0.5 , p-value =  1.0\n"
     ]
    },
    {
     "data": {
      "text/plain": [
       "'Passed'"
      ]
     },
     "execution_count": 18,
     "metadata": {},
     "output_type": "execute_result"
    }
   ],
   "execution_count": 18
  },
  {
   "cell_type": "code",
   "metadata": {
    "deletable": false,
    "nbgrader": {
     "cell_type": "code",
     "checksum": "658ad6225eea203eb19066de3c8ff2f5",
     "grade": false,
     "grade_id": "cell-69b0b84f410d2fe0",
     "locked": false,
     "schema_version": 3,
     "solution": true,
     "task": false
    },
    "ExecuteTime": {
     "end_time": "2024-06-14T14:02:39.912595Z",
     "start_time": "2024-06-14T14:02:39.905302Z"
    }
   },
   "source": [
    "def compare_two_algorithms(algorithm_A, algorithm_B, trials = 30):\n",
    "    dataA = run_experiment(algorithm_A, trials, initial_seed=1)\n",
    "    dataB = run_experiment(algorithm_B, trials, initial_seed=1)\n",
    "    df = pd.DataFrame(data=np.transpose([ dataA, dataB]),\n",
    "                      columns=[algorithm_A.__name__, algorithm_B.__name__])\n",
    "    df.to_excel(\"experimental-data.xlsx\")\n",
    "    for alg, data in ( (algorithm_A,dataA), (algorithm_B,dataB)):\n",
    "        plt.title(alg.__name__)\n",
    "        \n",
    "        # Plot a histogram with data\n",
    "        plt.hist(data, bins=20, alpha=0.7)\n",
    "        \n",
    "        plt.show()\n",
    "        print(alg.__name__, f'Mean: {np.mean(data)}, Standard deviation: {np.std(data)}\\n')\n",
    "    plt.title(algorithm_A.__name__+\" vs \"+algorithm_B.__name__)\n",
    "    \n",
    "    # Plot a boxplot with dataA and dataB\n",
    "    plt.boxplot([dataA, dataB], labels=[algorithm_A.__name__, algorithm_B.__name__])\n",
    "    \n",
    "    plt.show()\n",
    "    return statistical_test(algorithm_A.__name__+\" vs \"+algorithm_B.__name__, dataA, dataB, 0.05)"
   ],
   "outputs": [],
   "execution_count": 19
  },
  {
   "cell_type": "markdown",
   "metadata": {
    "deletable": false,
    "editable": false,
    "nbgrader": {
     "cell_type": "markdown",
     "checksum": "971101d840ab15d30e14ce83b0c8b06e",
     "grade": false,
     "grade_id": "cell-64ac5c66d323c18a",
     "locked": true,
     "schema_version": 3,
     "solution": false,
     "task": false
    }
   },
   "source": [
    "### Task 2: Compare two algorithms"
   ]
  },
  {
   "cell_type": "markdown",
   "metadata": {
    "deletable": false,
    "editable": false,
    "nbgrader": {
     "cell_type": "markdown",
     "checksum": "9bb4d9b4e053dedb70540d5d305a5f18",
     "grade": false,
     "grade_id": "cell-eb8b9e6168ee8adf",
     "locked": true,
     "schema_version": 3,
     "solution": false,
     "task": false
    }
   },
   "source": [
    "Import random_search and hill_climbing from week 2"
   ]
  },
  {
   "cell_type": "code",
   "metadata": {
    "ExecuteTime": {
     "end_time": "2024-06-14T14:02:41.318924Z",
     "start_time": "2024-06-14T14:02:39.939256Z"
    }
   },
   "source": [
    "!pip install openpyxl\n",
    "import math\n",
    "def function_1(x):\n",
    "    return 0.1 * x ** 2 + 10 * math.sin(3 * x)\n",
    "def function_2(x):\n",
    "    return 0.1 * x ** 2 + 4 * math.cos(math.pi / 2 + 2 * x)\n",
    "def random_search(function = function_1, r_min_x = -100, r_max_x = 100, budget = 1000):\n",
    "    \"\"\"random_search minimization\"\"\"\n",
    "    min_x = None\n",
    "    min_y = None\n",
    "    for i in range(budget):\n",
    "        cur_x = np.random.uniform(r_min_x,r_max_x)\n",
    "        cur_y = function(cur_x)\n",
    "        if min_y == None or cur_y < min_y:\n",
    "#             update the min_x and min_y\n",
    "            min_x = cur_x\n",
    "            min_y = cur_y\n",
    "    return min_y\n",
    "\n",
    "def hill_climbing(function = function_1, r_min_x = -10, r_max_x = 10, budget = 1000):\n",
    "    \"\"\"hill_climbing minimization\"\"\"\n",
    "    min_x = None\n",
    "    min_y = None\n",
    "    delta =(r_max_x - r_min_x) / budget\n",
    "    \n",
    "    min_x = np.random.uniform(r_min_x, r_max_x)\n",
    "    min_y = function(min_x)\n",
    "    for i in range((int)(budget/3)):\n",
    "        y_right = function(min_x+delta)\n",
    "        y_left = function(min_x-delta)\n",
    "        \n",
    "#         there are 2 cases: 1. left >= right, 2. left < right\n",
    "#         check the left and right neighbor of y\n",
    "        if min_x + delta < r_max_x and min_x - delta > r_min_x and y_right < min_y and y_left >= y_right:\n",
    "        # if min_x + delta < r_max_x and y_right < min_y and min_x - delta > r_min_x and y_left >= y_right:\n",
    "\n",
    "#         decreasing zone, left >= righ\n",
    "            min_x = min_x + delta\n",
    "            min_y = y_right\n",
    "        elif min_x - delta > r_min_x and y_left < min_y: \n",
    "#         increasing zone left <= right\n",
    "#         search leftward, if current min_x - delta still more than r_min_x\n",
    "#         set new min_x as min_x - delta\n",
    "#         set new min_y\n",
    "            min_x = min_x - delta\n",
    "            min_y = y_left\n",
    "        else:\n",
    "#           after some iterations, new min_x exceeds the boundary\n",
    "#           random helps to jump out the region min\n",
    "            alternative_x = np.random.uniform(r_min_x, r_max_x)\n",
    "            alternative_y = function(alternative_x)\n",
    "            if alternative_y < min_y:\n",
    "                min_x = alternative_x\n",
    "                min_y = alternative_y\n",
    "    \n",
    "    return min_y"
   ],
   "outputs": [
    {
     "name": "stdout",
     "output_type": "stream",
     "text": [
      "Requirement already satisfied: openpyxl in /Users/liqing/Documents/PyCharmProjects/SOA/.venv/lib/python3.9/site-packages (3.1.2)\r\n",
      "Requirement already satisfied: et-xmlfile in /Users/liqing/Documents/PyCharmProjects/SOA/.venv/lib/python3.9/site-packages (from openpyxl) (1.1.0)\r\n",
      "\r\n",
      "\u001B[1m[\u001B[0m\u001B[34;49mnotice\u001B[0m\u001B[1;39;49m]\u001B[0m\u001B[39;49m A new release of pip is available: \u001B[0m\u001B[31;49m23.2.1\u001B[0m\u001B[39;49m -> \u001B[0m\u001B[32;49m24.0\u001B[0m\r\n",
      "\u001B[1m[\u001B[0m\u001B[34;49mnotice\u001B[0m\u001B[1;39;49m]\u001B[0m\u001B[39;49m To update, run: \u001B[0m\u001B[32;49mpip install --upgrade pip\u001B[0m\r\n"
     ]
    }
   ],
   "execution_count": 20
  },
  {
   "cell_type": "markdown",
   "metadata": {
    "deletable": false,
    "editable": false,
    "nbgrader": {
     "cell_type": "markdown",
     "checksum": "ae2599e2d516a85f8821bd142c81de72",
     "grade": false,
     "grade_id": "cell-335bc3a2370be000",
     "locked": true,
     "schema_version": 3,
     "solution": false,
     "task": false
    }
   },
   "source": [
    "Compare random_search with hill_climbing for function_2 in the range -10, 10"
   ]
  },
  {
   "cell_type": "code",
   "metadata": {
    "deletable": false,
    "editable": false,
    "nbgrader": {
     "cell_type": "code",
     "checksum": "f08d304ee6403977c73d881defdfe2e7",
     "grade": true,
     "grade_id": "cell-01b9cd25344ef877",
     "locked": true,
     "points": 1,
     "schema_version": 3,
     "solution": false,
     "task": false
    },
    "ExecuteTime": {
     "end_time": "2024-06-14T14:02:41.908615Z",
     "start_time": "2024-06-14T14:02:41.354377Z"
    }
   },
   "source": [
    "check(compare_two_algorithms(random_search, hill_climbing))"
   ],
   "outputs": [
    {
     "data": {
      "text/plain": [
       "<Figure size 640x480 with 1 Axes>"
      ],
      "image/png": "[encoded data removed]"
     },
     "metadata": {},
     "output_type": "display_data"
    },
    {
     "name": "stdout",
     "output_type": "stream",
     "text": [
      "random_search Mean: -9.75999796740707, Standard deviation: 0.20647199260761082\n",
      "\n"
     ]
    },
    {
     "data": {
      "text/plain": [
       "<Figure size 640x480 with 1 Axes>"
      ],
      "image/png": "[encoded data removed]"
     },
     "metadata": {},
     "output_type": "display_data"
    },
    {
     "name": "stdout",
     "output_type": "stream",
     "text": [
      "hill_climbing Mean: -9.942204400097033, Standard deviation: 0.07435656533829783\n",
      "\n"
     ]
    },
    {
     "data": {
      "text/plain": [
       "<Figure size 640x480 with 1 Axes>"
      ],
      "image/png": "[encoded data removed]"
     },
     "metadata": {},
     "output_type": "display_data"
    },
    {
     "name": "stdout",
     "output_type": "stream",
     "text": [
      "The observed differences in the results of algorithm A and B for variable random_search vs hill_climbing are statistically significant. Two-sided Mann–Whitney U test, significance level = 0.05 , p-value =  4.4440478739951943e-07\n"
     ]
    },
    {
     "data": {
      "text/plain": [
       "'Passed'"
      ]
     },
     "execution_count": 21,
     "metadata": {},
     "output_type": "execute_result"
    }
   ],
   "execution_count": 21
  },
  {
   "cell_type": "markdown",
   "metadata": {
    "deletable": false,
    "editable": false,
    "nbgrader": {
     "cell_type": "markdown",
     "checksum": "daea274ec590185303f3c1e802731fbf",
     "grade": false,
     "grade_id": "cell-3f950c68a708d0a5",
     "locked": true,
     "schema_version": 3,
     "solution": false,
     "task": false
    }
   },
   "source": [
    "Implement two versions of hill_climbing with different step values. Use compare_two_algorithms to determine<br>\n",
    "what version performs better"
   ]
  },
  {
   "cell_type": "code",
   "metadata": {
    "ExecuteTime": {
     "end_time": "2024-06-14T14:02:41.918462Z",
     "start_time": "2024-06-14T14:02:41.910302Z"
    }
   },
   "source": [
    "def hill_climbing_v1(function = function_1, r_min_x = -100, r_max_x = 100, budget = 1000):\n",
    "    \"\"\"hill_climbing minimization\"\"\"\n",
    "    min_x = None\n",
    "    min_y = None\n",
    "    # here, delta is the step values\n",
    "    delta = ( r_max_x - r_min_x ) / budget\n",
    "\n",
    "    min_x = np.random.uniform(r_min_x, r_max_x)\n",
    "    min_y = function(min_x)\n",
    "    for i in range((int)(budget/3)):\n",
    "        y_right = function(min_x+delta)\n",
    "        y_left = function(min_x-delta)\n",
    "        \n",
    "#         there are 2 cases: 1. left >= right, 2. left < right\n",
    "#         check the left and right neighbor of y\n",
    "        if min_x + delta < r_max_x and min_x - delta > r_min_x and y_right < min_y and y_left >= y_right:\n",
    "        # if min_x + delta < r_max_x and y_right < min_y and min_x - delta > r_min_x and y_left >= y_right:\n",
    "\n",
    "#         decreasing zone, left >= righ\n",
    "            min_x = min_x + delta\n",
    "            min_y = y_right\n",
    "        elif min_x - delta > r_min_x and y_left < min_y: \n",
    "#         increasing zone left <= right\n",
    "#         search leftward, if current min_x - delta still more than r_min_x\n",
    "#         set new min_x as min_x - delta\n",
    "#         set new min_y\n",
    "            min_x = min_x - delta\n",
    "            min_y = y_left\n",
    "        else:\n",
    "#           after some iterations, new min_x exceeds the boundary\n",
    "#           random helps to jump out the region min\n",
    "            alternative_x = np.random.uniform(r_min_x, r_max_x)\n",
    "            alternative_y = function(alternative_x)\n",
    "            if alternative_y < min_y:\n",
    "                min_x = alternative_x\n",
    "                min_y = alternative_y\n",
    "    \n",
    "    return min_y\n",
    "\n",
    "def hill_climbing_v2(function = function_1, r_min_x = -100, r_max_x = 100, budget = 1000):\n",
    "    \"\"\"hill_climbing minimization\"\"\"\n",
    "    min_x = None\n",
    "    min_y = None\n",
    "    # this time I make the step half the length compared to v1\n",
    "    delta = ( r_max_x - r_min_x ) / ( budget * 2 )\n",
    "\n",
    "    min_x = np.random.uniform(r_min_x, r_max_x)\n",
    "    min_y = function(min_x)\n",
    "    for i in range((int)(budget/3)):\n",
    "        y_right = function(min_x+delta)\n",
    "        y_left = function(min_x-delta)\n",
    "        \n",
    "#         there are 2 cases: 1. left >= right, 2. left < right\n",
    "#         check the left and right neighbor of y\n",
    "        if min_x + delta < r_max_x and min_x - delta > r_min_x and y_right < min_y and y_left >= y_right:\n",
    "        # if min_x + delta < r_max_x and y_right < min_y and min_x - delta > r_min_x and y_left >= y_right:\n",
    "\n",
    "#         decreasing zone, left >= righ\n",
    "            min_x = min_x + delta\n",
    "            min_y = y_right\n",
    "        elif min_x - delta > r_min_x and y_left < min_y: \n",
    "#         increasing zone left <= right\n",
    "#         search leftward, if current min_x - delta still more than r_min_x\n",
    "#         set new min_x as min_x - delta\n",
    "#         set new min_y\n",
    "            min_x = min_x - delta\n",
    "            min_y = y_left\n",
    "        else:\n",
    "#           after some iterations, new min_x exceeds the boundary\n",
    "#           random helps to jump out the region min\n",
    "            alternative_x = np.random.uniform(r_min_x, r_max_x)\n",
    "            alternative_y = function(alternative_x)\n",
    "            if alternative_y < min_y:\n",
    "                min_x = alternative_x\n",
    "                min_y = alternative_y\n",
    "    \n",
    "    return  min_y"
   ],
   "outputs": [],
   "execution_count": 22
  },
  {
   "cell_type": "code",
   "metadata": {
    "deletable": false,
    "editable": false,
    "nbgrader": {
     "cell_type": "code",
     "checksum": "f01657ef90a016c38f956e63901109c6",
     "grade": true,
     "grade_id": "cell-88fabb41f2f0572d",
     "locked": true,
     "points": 1,
     "schema_version": 3,
     "solution": false,
     "task": false
    },
    "ExecuteTime": {
     "end_time": "2024-06-14T14:02:42.419285Z",
     "start_time": "2024-06-14T14:02:41.921350Z"
    }
   },
   "source": [
    "check(compare_two_algorithms(hill_climbing_v1, hill_climbing_v2))"
   ],
   "outputs": [
    {
     "data": {
      "text/plain": [
       "<Figure size 640x480 with 1 Axes>"
      ],
      "image/png": "[encoded data removed]"
     },
     "metadata": {},
     "output_type": "display_data"
    },
    {
     "name": "stdout",
     "output_type": "stream",
     "text": [
      "hill_climbing_v1 Mean: -9.576657060766488, Standard deviation: 0.33865790344402297\n",
      "\n"
     ]
    },
    {
     "data": {
      "text/plain": [
       "<Figure size 640x480 with 1 Axes>"
      ],
      "image/png": "[encoded data removed]"
     },
     "metadata": {},
     "output_type": "display_data"
    },
    {
     "name": "stdout",
     "output_type": "stream",
     "text": [
      "hill_climbing_v2 Mean: -9.72234359924579, Standard deviation: 0.3431154727328819\n",
      "\n"
     ]
    },
    {
     "data": {
      "text/plain": [
       "<Figure size 640x480 with 1 Axes>"
      ],
      "image/png": "[encoded data removed]"
     },
     "metadata": {},
     "output_type": "display_data"
    },
    {
     "name": "stdout",
     "output_type": "stream",
     "text": [
      "The observed differences in the results of algorithm A and B for variable hill_climbing_v1 vs hill_climbing_v2 are statistically significant. Two-sided Mann–Whitney U test, significance level = 0.05 , p-value =  0.011454352060603815\n"
     ]
    },
    {
     "data": {
      "text/plain": [
       "'Passed'"
      ]
     },
     "execution_count": 23,
     "metadata": {},
     "output_type": "execute_result"
    }
   ],
   "execution_count": 23
  },
  {
   "cell_type": "markdown",
   "metadata": {
    "deletable": false,
    "editable": false,
    "nbgrader": {
     "cell_type": "markdown",
     "checksum": "090ca8c588777bd15222e928b1bd17e8",
     "grade": false,
     "grade_id": "cell-6f29dae582eef8b8",
     "locked": true,
     "points": 0,
     "schema_version": 3,
     "solution": false,
     "task": true
    }
   },
   "source": [
    "Which one has the better step value?"
   ]
  },
  {
   "cell_type": "code",
   "metadata": {
    "deletable": false,
    "nbgrader": {
     "cell_type": "code",
     "checksum": "cabfb2cca4ef790800655c55fbd21a3b",
     "grade": true,
     "grade_id": "cell-e06bfa6943cce364",
     "locked": false,
     "points": 1,
     "schema_version": 3,
     "solution": true,
     "task": false
    },
    "ExecuteTime": {
     "end_time": "2024-06-14T14:05:37.183864Z",
     "start_time": "2024-06-14T14:05:37.171239Z"
    }
   },
   "source": [
    "# YOUR CODE HERE\n",
    "result_v1 = hill_climbing_v1(function_2, -10, 10, 100)\n",
    "result_v2 = hill_climbing_v2(function_2, -10, 10, 100)\n",
    "\n",
    "if result_v1 < result_v2:\n",
    "    print(\"hill_climbing_v1 has the better step value.\")\n",
    "elif result_v2 < result_v1:\n",
    "    print(\"hill_climbing_v2 has the better step value.\")\n",
    "else:\n",
    "    print(\"Both versions have achieved the same result.\")"
   ],
   "outputs": [
    {
     "name": "stdout",
     "output_type": "stream",
     "text": [
      "hill_climbing_v2 has the better step value.\n"
     ]
    }
   ],
   "execution_count": 25
  }
 ],
 "metadata": {
  "kernelspec": {
   "display_name": "Python 3 (ipykernel)",
   "language": "python",
   "name": "python3"
  },
  "language_info": {
   "codemirror_mode": {
    "name": "ipython",
    "version": 3
   },
   "file_extension": ".py",
   "mimetype": "text/x-python",
   "name": "python",
   "nbconvert_exporter": "python",
   "pygments_lexer": "ipython3",
   "version": "3.10.6"
  }
 },
 "nbformat": 4,
 "nbformat_minor": 4
}
